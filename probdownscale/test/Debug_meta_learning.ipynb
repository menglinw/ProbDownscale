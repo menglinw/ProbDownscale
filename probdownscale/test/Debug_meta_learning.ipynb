{
 "cells": [
  {
   "cell_type": "code",
   "execution_count": 94,
   "metadata": {},
   "outputs": [],
   "source": [
    "import tensorflow as tf\n",
    "import tensorflow.keras as keras\n",
    "import os\n",
    "import sys\n",
    "from importlib import reload\n",
    "module_path = os.path.abspath(os.path.join('../..'))\n",
    "if module_path not in sys.path:\n",
    "    sys.path.append(module_path)\n",
    "import probdownscale\n",
    "reload(probdownscale.TaskExtractor)\n",
    "reload(probdownscale.MetaTrain)\n",
    "from probdownscale.MetaTrain import MetaSGD\n",
    "\n",
    "from probdownscale.TaskExtractor import TaskExtractor\n",
    "import math\n",
    "import numpy as np\n",
    "import netCDF4 as nc\n",
    "\n",
    "import tensorflow as tf\n",
    "from tensorflow import keras\n",
    "from tensorflow.keras import layers\n",
    "from tensorflow.keras.models import Model\n",
    "from tensorflow_probability import distributions as tfd\n",
    "from matplotlib import pyplot as plt"
   ]
  },
  {
   "cell_type": "markdown",
   "metadata": {},
   "source": [
    "## 1. Debug TaskExtractor"
   ]
  },
  {
   "cell_type": "code",
   "execution_count": 8,
   "metadata": {},
   "outputs": [
    {
     "name": "stderr",
     "output_type": "stream",
     "text": [
      "C:\\Users\\96349\\anaconda3\\envs\\Downscale_env\\lib\\site-packages\\ipykernel_launcher.py:12: DeprecationWarning: `np.bool` is a deprecated alias for the builtin `bool`. To silence this warning, use `bool` by itself. Doing this will not modify any behavior and is safe. If you specifically wanted the numpy scalar type, use `np.bool_` here.\n",
      "Deprecated in NumPy 1.20; for more details and guidance: https://numpy.org/devdocs/release/1.20.0-notes.html#deprecations\n",
      "  if sys.path[0] == '':\n",
      "C:\\Users\\96349\\anaconda3\\envs\\Downscale_env\\lib\\site-packages\\ipykernel_launcher.py:14: DeprecationWarning: `np.bool` is a deprecated alias for the builtin `bool`. To silence this warning, use `bool` by itself. Doing this will not modify any behavior and is safe. If you specifically wanted the numpy scalar type, use `np.bool_` here.\n",
      "Deprecated in NumPy 1.20; for more details and guidance: https://numpy.org/devdocs/release/1.20.0-notes.html#deprecations\n",
      "  \n",
      "C:\\Users\\96349\\anaconda3\\envs\\Downscale_env\\lib\\site-packages\\ipykernel_launcher.py:16: DeprecationWarning: `np.bool` is a deprecated alias for the builtin `bool`. To silence this warning, use `bool` by itself. Doing this will not modify any behavior and is safe. If you specifically wanted the numpy scalar type, use `np.bool_` here.\n",
      "Deprecated in NumPy 1.20; for more details and guidance: https://numpy.org/devdocs/release/1.20.0-notes.html#deprecations\n",
      "  app.launch_new_instance()\n",
      "C:\\Users\\96349\\anaconda3\\envs\\Downscale_env\\lib\\site-packages\\ipykernel_launcher.py:18: DeprecationWarning: `np.bool` is a deprecated alias for the builtin `bool`. To silence this warning, use `bool` by itself. Doing this will not modify any behavior and is safe. If you specifically wanted the numpy scalar type, use `np.bool_` here.\n",
      "Deprecated in NumPy 1.20; for more details and guidance: https://numpy.org/devdocs/release/1.20.0-notes.html#deprecations\n",
      "C:\\Users\\96349\\anaconda3\\envs\\Downscale_env\\lib\\site-packages\\ipykernel_launcher.py:21: DeprecationWarning: `np.bool` is a deprecated alias for the builtin `bool`. To silence this warning, use `bool` by itself. Doing this will not modify any behavior and is safe. If you specifically wanted the numpy scalar type, use `np.bool_` here.\n",
      "Deprecated in NumPy 1.20; for more details and guidance: https://numpy.org/devdocs/release/1.20.0-notes.html#deprecations\n",
      "C:\\Users\\96349\\anaconda3\\envs\\Downscale_env\\lib\\site-packages\\ipykernel_launcher.py:22: DeprecationWarning: `np.bool` is a deprecated alias for the builtin `bool`. To silence this warning, use `bool` by itself. Doing this will not modify any behavior and is safe. If you specifically wanted the numpy scalar type, use `np.bool_` here.\n",
      "Deprecated in NumPy 1.20; for more details and guidance: https://numpy.org/devdocs/release/1.20.0-notes.html#deprecations\n"
     ]
    }
   ],
   "source": [
    "file_path_g_05 = r'C:\\Users\\96349\\Documents\\Downscale_data\\MERRA2\\G5NR_aerosol_variables_over_MiddleEast_daily_20050516-20060515.nc'\n",
    "file_path_g_06 =  r'C:\\Users\\96349\\Documents\\Downscale_data\\MERRA2\\G5NR_aerosol_variables_over_MiddleEast_daily_20060516-20070515.nc'\n",
    "file_path_m = r'C:\\Users\\96349\\Documents\\Downscale_data\\MERRA2\\MERRA2_aerosol_variables_over_MiddleEast_daily_20000516-20180515.nc'\n",
    "target_var = 'BCSMASS'\n",
    "\n",
    "# read data\n",
    "g05_data = nc.Dataset(file_path_g_05)\n",
    "g06_data = nc.Dataset(file_path_g_06)\n",
    "m_data_nc = nc.Dataset(file_path_m)\n",
    "\n",
    "# define lat&lon of MERRA, G5NR and mete\n",
    "M_lons = m_data_nc.variables['lon'][:15]\n",
    "# self.M_lons = (M_lons-M_lons.mean())/M_lons.std()\n",
    "M_lats = m_data_nc.variables['lat'][:15]\n",
    "# self.M_lats = (M_lats-M_lats.mean())/M_lats.std()\n",
    "G_lons = g05_data.variables['lon'][:30]\n",
    "# self.G_lons = (G_lons-G_lons.mean())/G_lons.std()\n",
    "G_lats = g05_data.variables['lat'][:30]\n",
    "\n",
    "# extract target data\n",
    "g_data = np.concatenate((g05_data.variables[target_var][:, :30, :30], g06_data.variables[target_var][:, :30, :30]), axis=0)\n",
    "m_data = m_data_nc.variables[target_var][5*365:7*365, :15, :15]"
   ]
  },
  {
   "cell_type": "code",
   "execution_count": 95,
   "metadata": {},
   "outputs": [],
   "source": [
    "data = [g_data, m_data]\n",
    "lats_lons = [G_lats, G_lons, M_lats, M_lons]\n",
    "task_dim = 3\n",
    "test_proportion = 0.3\n",
    "n_lag = 10\n",
    "taskextractor = TaskExtractor(data, lats_lons, task_dim, test_proportion, n_lag)"
   ]
  },
  {
   "cell_type": "code",
   "execution_count": 96,
   "metadata": {},
   "outputs": [],
   "source": [
    "train_x, train_y, test_x, test_y, location, init = taskextractor._get_one_random_task(return_init=True)"
   ]
  },
  {
   "cell_type": "code",
   "execution_count": 97,
   "metadata": {},
   "outputs": [
    {
     "data": {
      "text/plain": [
       "(1, 10, 1, 3, 3)"
      ]
     },
     "execution_count": 97,
     "metadata": {},
     "output_type": "execute_result"
    }
   ],
   "source": [
    "init[0].shape"
   ]
  },
  {
   "cell_type": "code",
   "execution_count": 32,
   "metadata": {},
   "outputs": [],
   "source": [
    "train_x, train_y, test_x, test_y, locations = taskextractor.get_random_tasks(10)\n"
   ]
  },
  {
   "cell_type": "code",
   "execution_count": 35,
   "metadata": {},
   "outputs": [],
   "source": [
    "train_x, train_y, test_x, test_y, locations = taskextractor.get_random_tasks(locations=locations[:4])"
   ]
  },
  {
   "cell_type": "code",
   "execution_count": 14,
   "metadata": {},
   "outputs": [
    {
     "data": {
      "text/plain": [
       "[3, 1, 4, 2]"
      ]
     },
     "execution_count": 14,
     "metadata": {},
     "output_type": "execute_result"
    }
   ],
   "source": [
    "from random import sample\n",
    "sample([1,2,3,4], 4)"
   ]
  },
  {
   "cell_type": "code",
   "execution_count": 99,
   "metadata": {},
   "outputs": [
    {
     "data": {
      "text/plain": [
       "[0, 1, 2, 3, 4, 5, 6, 7, 8, 9]"
      ]
     },
     "execution_count": 99,
     "metadata": {},
     "output_type": "execute_result"
    }
   ],
   "source": [
    "a = list(range(10))\n",
    "a"
   ]
  },
  {
   "cell_type": "code",
   "execution_count": 100,
   "metadata": {},
   "outputs": [
    {
     "data": {
      "text/plain": [
       "[6, 7, 8]"
      ]
     },
     "execution_count": 100,
     "metadata": {},
     "output_type": "execute_result"
    }
   ],
   "source": [
    "a[6:9]"
   ]
  },
  {
   "cell_type": "markdown",
   "metadata": {},
   "source": [
    "## 2. Test Network"
   ]
  },
  {
   "cell_type": "code",
   "execution_count": 145,
   "metadata": {},
   "outputs": [],
   "source": [
    "import tensorflow as tf\n",
    "from tensorflow import keras\n",
    "from tensorflow.keras import layers\n",
    "from tensorflow.keras.models import Model\n",
    "from tensorflow_probability import distributions as tfd"
   ]
  },
  {
   "cell_type": "code",
   "execution_count": 312,
   "metadata": {},
   "outputs": [],
   "source": [
    "# the last channel is the comonents\n",
    "alpha = np.random.rand(3,2,5)\n",
    "alpha = alpha/alpha.sum()\n",
    "mu = np.random.rand(3, 2, 5)\n",
    "mu = np.abs(mu)\n",
    "test_md = tfd.MixtureSameFamily(\n",
    "        mixture_distribution=tfd.Categorical(probs=alpha),\n",
    "        components_distribution=tfd.Gamma(concentration=mu, rate=mu))"
   ]
  },
  {
   "cell_type": "code",
   "execution_count": 120,
   "metadata": {},
   "outputs": [
    {
     "data": {
      "text/plain": [
       "<tf.Tensor: shape=(3, 2), dtype=float64, numpy=\n",
       "array([[nan, nan],\n",
       "       [nan, nan],\n",
       "       [nan, nan]])>"
      ]
     },
     "execution_count": 120,
     "metadata": {},
     "output_type": "execute_result"
    }
   ],
   "source": [
    "log_like = test_md.log_prob(np.ones((3,2))*-0.001)\n",
    "#-tf.reduce_mean(log_like, axis=-1)\n",
    "log_like\n",
    "\n",
    "# when the Y is really small, log_prob return a positive log likelihood"
   ]
  },
  {
   "cell_type": "code",
   "execution_count": 313,
   "metadata": {},
   "outputs": [
    {
     "data": {
      "text/plain": [
       "<tf.Tensor: shape=(3, 2), dtype=float64, numpy=\n",
       "array([[0.15880819, 0.10569395],\n",
       "       [0.17997603, 0.15908541],\n",
       "       [0.20016422, 0.19627221]])>"
      ]
     },
     "execution_count": 313,
     "metadata": {},
     "output_type": "execute_result"
    }
   ],
   "source": [
    "test_md.mean()"
   ]
  },
  {
   "cell_type": "code",
   "execution_count": 80,
   "metadata": {},
   "outputs": [
    {
     "data": {
      "text/plain": [
       "<tf.Tensor: shape=(3, 2), dtype=float64, numpy=\n",
       "array([[-1.07151844, -1.96976935],\n",
       "       [-0.88054633, -1.06112697],\n",
       "       [-1.63395563, -0.41498473]])>"
      ]
     },
     "execution_count": 80,
     "metadata": {},
     "output_type": "execute_result"
    }
   ],
   "source": [
    "log_like"
   ]
  },
  {
   "cell_type": "code",
   "execution_count": 160,
   "metadata": {},
   "outputs": [
    {
     "data": {
      "text/plain": [
       "1.0"
      ]
     },
     "execution_count": 160,
     "metadata": {},
     "output_type": "execute_result"
    }
   ],
   "source": [
    "a =  np.random.rand(3,3,3)\n",
    "#a = (a - a.min())/(a.max() - a.min())\n",
    "a = a/a.sum()\n",
    "a.sum()"
   ]
  },
  {
   "cell_type": "code",
   "execution_count": 19,
   "metadata": {},
   "outputs": [],
   "source": [
    "# define necessary tool functions\n",
    "components = 100\n",
    "no_parameters = 2\n",
    "\n",
    "def nnelu(input):\n",
    "    return tf.add(tf.constant(1, dtype=tf.float32), tf.nn.elu(input))\n",
    "\n",
    "def slice_parameter_vectors(parameter_vector, no_parameters):\n",
    "    return [parameter_vector[:, i * task_dim*task_dim*components:(i + 1) *task_dim*task_dim*components] for i in range(no_parameters)]\n",
    "\n",
    "def gamma_loss(y, parameter_vector):\n",
    "    alpha, mu, sigma = slice_parameter_vectors(parameter_vector, 3)  # Unpack parameter vectors\n",
    "    #print(alpha.shape, mu.shape)\n",
    "    alpha1 = tf.reshape(alpha, (tf.shape(alpha)[0], task_dim, task_dim, components))\n",
    "    mu1 = tf.reshape(mu, (tf.shape(mu)[0], task_dim, task_dim, components))\n",
    "    sigma1 = tf.reshape(sigma,  (tf.shape(sigma)[0], task_dim, task_dim, components))\n",
    "    #print(alpha1.shape, mu1.shape)\n",
    "    gm = tfd.MixtureSameFamily(\n",
    "        mixture_distribution=tfd.Categorical(probs=alpha1),\n",
    "        components_distribution=tfd.Gamma(\n",
    "        concentration=mu1, rate=sigma1)\n",
    "    )\n",
    "\n",
    "    log_likelihood = gm.log_prob(y)  # Evaluate log-probability of y\n",
    "    #print(log_likelihood)\n",
    "    return -tf.reduce_mean(log_likelihood, axis=-1)\n",
    "\n",
    "def exponential_loss(y, parameter_vector):\n",
    "    alpha, mu = slice_parameter_vectors(parameter_vector, 2)  # Unpack parameter vectors\n",
    "    #print(alpha.shape, mu.shape)\n",
    "    alpha1 = tf.reshape(alpha, (tf.shape(alpha)[0], task_dim, task_dim, components))\n",
    "    mu1 = tf.reshape(mu, (tf.shape(mu)[0], task_dim, task_dim, components))\n",
    "    #print(alpha1.shape, mu1.shape)\n",
    "    gm = tfd.MixtureSameFamily(\n",
    "        mixture_distribution=tfd.Categorical(probs=alpha1),\n",
    "        components_distribution=tfd.Exponential(\n",
    "        rate=mu1)\n",
    "    )\n",
    "\n",
    "    log_likelihood = gm.log_prob(y)  # Evaluate log-probability of y\n",
    "    #print(log_likelihood)\n",
    "    return -tf.reduce_mean(log_likelihood, axis=-1)\n",
    "\n",
    "def gamma_mean_loss(y, parameter_vector):\n",
    "    alpha, mu, sigma = slice_parameter_vectors(parameter_vector, 3)  # Unpack parameter vectors\n",
    "    #print(alpha.shape, mu.shape)\n",
    "    alpha1 = tf.reshape(alpha, (tf.shape(alpha)[0], task_dim, task_dim, components))\n",
    "    mu1 = tf.reshape(mu, (tf.shape(mu)[0], task_dim, task_dim, components))\n",
    "    sigma1 = tf.reshape(sigma,  (tf.shape(sigma)[0], task_dim, task_dim, components))\n",
    "    #print(alpha1.shape, mu1.shape)\n",
    "    gm = tfd.MixtureSameFamily(\n",
    "        mixture_distribution=tfd.Categorical(probs=alpha1),\n",
    "        components_distribution=tfd.Gamma(\n",
    "        concentration=mu1, rate=sigma1)\n",
    "    )\n",
    "    mae = tf.keras.losses.MeanAbsoluteError()\n",
    "    return mae(gm.mean(), y) \n",
    "\n",
    "\n",
    "tf.keras.utils.get_custom_objects().update({'nnelu': layers.Activation(nnelu)})\n",
    "\n",
    "def plot_history(history, title):\n",
    "    plt.plot(history.history['loss'])\n",
    "    plt.plot(history.history['val_loss'])\n",
    "    plt.title(title)\n",
    "    \n",
    "def model_generator(n_para=2):\n",
    "    # define MDN Exponentialmodel\n",
    "    # input dim (time, channel, rows, cols)\n",
    "    input1 = layers.Input(shape=(n_lag, 1, task_dim, task_dim)) \n",
    "    input1 = layers.BatchNormalization()(input1)\n",
    "    input2 = layers.Input(shape=(task_dim, task_dim, 1))\n",
    "    input2 = layers.BatchNormalization()(input2)\n",
    "    input3 = layers.Input(shape=(1))\n",
    "    input3 = layers.BatchNormalization()(input3)\n",
    "\n",
    "    X = layers.ConvLSTM2D(filters=20, kernel_size=(1,2), activation='tanh', return_sequences=True)(input1)\n",
    "    X = layers.ConvLSTM2D(filters=20, kernel_size=(1,2), activation='relu', return_sequences=True)(X)\n",
    "    X = layers.ConvLSTM2D(filters=20, kernel_size=(1,1), activation='relu')(X)\n",
    "    X = layers.Flatten()(X)\n",
    "    X = layers.Dense(512, activation='relu')(X)\n",
    "    X = layers.BatchNormalization()(X)\n",
    "    X = layers.Dense(300, activation='relu')(X)\n",
    "\n",
    "    X1 = layers.Conv2D(20, (2,2), activation='tanh')(input2)\n",
    "    X1 = layers.Flatten()(X1)\n",
    "    X2 = layers.BatchNormalization()(input3)\n",
    "    X2 = layers.Dense(30, activation='relu')(X2)\n",
    "\n",
    "    X = layers.Concatenate()([X, X1, X2])\n",
    "    X = layers.Dense(128, activation='relu')(X)\n",
    "    X = layers.BatchNormalization()(X)\n",
    "    X = layers.Dense(128, activation='relu')(X)\n",
    "    X = layers.BatchNormalization()(X)\n",
    "    X = layers.Dense(128, activation='relu')(X)\n",
    "    X = layers.BatchNormalization()(X)\n",
    "    if n_para ==2:\n",
    "        alphas = layers.Dense(components*task_dim*task_dim, activation=\"softmax\")(X)\n",
    "        #alphas = layers.Reshape((task_dim, task_dim, components), name=\"alphas\")(alphas)\n",
    "        mus = layers.Dense(components*task_dim*task_dim, activation='nnelu')(X)\n",
    "        #mus = layers.Reshape((task_dim, task_dim, components) ,name=\"mus\")(mus)\n",
    "        output = layers.Concatenate()([alphas, mus])\n",
    "        model = Model([input1, input2, input3], output)\n",
    "    else:\n",
    "        alphas = layers.Dense(components*task_dim*task_dim, activation=\"softmax\")(X)\n",
    "        #alphas = layers.Reshape((task_dim, task_dim, components), name=\"alphas\")(alphas)\n",
    "        mus = layers.Dense(components*task_dim*task_dim, activation='nnelu')(X)\n",
    "        #mus = layers.Reshape((task_dim, task_dim, components) ,name=\"mus\")(mus)\n",
    "        sigmas = layers.Dense(components*task_dim*task_dim, activation='nnelu')(X)\n",
    "        output = layers.Concatenate()([alphas, mus, sigmas])\n",
    "        model = Model([input1, input2, input3], output)\n",
    "    return model"
   ]
  },
  {
   "cell_type": "code",
   "execution_count": 87,
   "metadata": {},
   "outputs": [
    {
     "name": "stdout",
     "output_type": "stream",
     "text": [
      "Epoch 1/30\n",
      "16/16 [==============================] - 30s 206ms/step - loss: 6.1989 - val_loss: 8.3848\n",
      "Epoch 2/30\n",
      "16/16 [==============================] - 1s 84ms/step - loss: 6.2568 - val_loss: 7.7388\n",
      "Epoch 3/30\n",
      "16/16 [==============================] - 1s 86ms/step - loss: 6.1745 - val_loss: 7.2383\n",
      "Epoch 4/30\n",
      "16/16 [==============================] - 1s 84ms/step - loss: 6.1776 - val_loss: 6.9146\n",
      "Epoch 5/30\n",
      "16/16 [==============================] - 1s 85ms/step - loss: 6.1971 - val_loss: 6.7004\n",
      "Epoch 6/30\n",
      "16/16 [==============================] - 1s 91ms/step - loss: 6.1990 - val_loss: 6.5496\n",
      "Epoch 7/30\n",
      "16/16 [==============================] - 1s 89ms/step - loss: 6.1759 - val_loss: 6.4547\n",
      "Epoch 8/30\n",
      "16/16 [==============================] - 1s 89ms/step - loss: 6.1428 - val_loss: 6.3883\n",
      "Epoch 9/30\n",
      "16/16 [==============================] - 1s 86ms/step - loss: 6.3051 - val_loss: 6.3379\n",
      "Epoch 10/30\n",
      "16/16 [==============================] - 1s 87ms/step - loss: 6.1981 - val_loss: 6.3069\n",
      "Epoch 11/30\n",
      "16/16 [==============================] - 1s 91ms/step - loss: 6.1960 - val_loss: 6.2810\n",
      "Epoch 12/30\n",
      "16/16 [==============================] - 1s 87ms/step - loss: 6.1884 - val_loss: 6.2651\n",
      "Epoch 13/30\n",
      "16/16 [==============================] - 1s 91ms/step - loss: 6.2130 - val_loss: 6.2531\n",
      "Epoch 14/30\n",
      "16/16 [==============================] - 1s 93ms/step - loss: 6.1066 - val_loss: 6.2462\n",
      "Epoch 15/30\n",
      "16/16 [==============================] - 1s 93ms/step - loss: 6.2111 - val_loss: 6.2446\n",
      "Epoch 16/30\n",
      "16/16 [==============================] - 1s 90ms/step - loss: 6.1928 - val_loss: 6.2387\n",
      "Epoch 17/30\n",
      "16/16 [==============================] - 1s 93ms/step - loss: 6.1126 - val_loss: 6.2305\n",
      "Epoch 18/30\n",
      "16/16 [==============================] - 1s 93ms/step - loss: 6.1903 - val_loss: 6.2313\n",
      "Epoch 19/30\n",
      "16/16 [==============================] - 2s 96ms/step - loss: 6.1498 - val_loss: 6.2301\n",
      "Epoch 20/30\n",
      "16/16 [==============================] - 2s 95ms/step - loss: 6.2030 - val_loss: 6.2304\n",
      "Epoch 21/30\n",
      "16/16 [==============================] - 2s 95ms/step - loss: 6.2425 - val_loss: 6.2278\n",
      "Epoch 22/30\n",
      "16/16 [==============================] - 2s 95ms/step - loss: 6.1714 - val_loss: 6.2257\n",
      "Epoch 23/30\n",
      "16/16 [==============================] - 2s 94ms/step - loss: 6.1502 - val_loss: 6.2269\n",
      "Epoch 24/30\n",
      "16/16 [==============================] - 2s 100ms/step - loss: 6.2214 - val_loss: 6.2247\n",
      "Epoch 25/30\n",
      "16/16 [==============================] - 2s 97ms/step - loss: 6.1638 - val_loss: 6.2240\n",
      "Epoch 26/30\n",
      "16/16 [==============================] - 2s 97ms/step - loss: 6.1652 - val_loss: 6.2255\n",
      "Epoch 27/30\n",
      "16/16 [==============================] - 2s 110ms/step - loss: 6.1608 - val_loss: 6.2240\n",
      "Epoch 28/30\n",
      "16/16 [==============================] - 2s 99ms/step - loss: 6.1322 - val_loss: 6.2222\n",
      "Epoch 29/30\n",
      "16/16 [==============================] - 2s 110ms/step - loss: 6.1494 - val_loss: 6.2245\n",
      "Epoch 30/30\n",
      "16/16 [==============================] - 2s 103ms/step - loss: 6.1035 - val_loss: 6.2240\n"
     ]
    },
    {
     "data": {
      "image/png": "[encoded data removed]",
      "text/plain": [
       "<Figure size 432x288 with 1 Axes>"
      ]
     },
     "metadata": {
      "needs_background": "light"
     },
     "output_type": "display_data"
    }
   ],
   "source": [
    "# define MDN Gamma model\n",
    "#MDN_model_ref_gamma = model_generator(n_para=3)\n",
    "MDN_model_ref_gamma.set_weights(meta_learner.meta_model.get_weights())\n",
    "MDN_model_ref_gamma.compile(optimizer=tf.keras.optimizers.Adam(0.000001), loss=gamma_loss)\n",
    "history_gamma = MDN_model_ref_gamma.fit(train_x, train_y, epochs=30, validation_data=[test_x, test_y])\n",
    "plot_history(history_gamma, 'Regular Training, Gamma MDN')"
   ]
  },
  {
   "cell_type": "code",
   "execution_count": 21,
   "metadata": {},
   "outputs": [
    {
     "name": "stdout",
     "output_type": "stream",
     "text": [
      "Epoch 1/80\n",
      "16/16 [==============================] - 11s 81ms/step - loss: 199.0508 - val_loss: 204.0836\n",
      "Epoch 2/80\n",
      "16/16 [==============================] - 0s 26ms/step - loss: 199.0134 - val_loss: 204.0834\n",
      "Epoch 3/80\n",
      "16/16 [==============================] - 0s 26ms/step - loss: 198.8674 - val_loss: 204.0824\n",
      "Epoch 4/80\n",
      "16/16 [==============================] - 0s 26ms/step - loss: 198.8008 - val_loss: 204.0806\n",
      "Epoch 5/80\n",
      "16/16 [==============================] - 0s 28ms/step - loss: 198.7091 - val_loss: 204.0780\n",
      "Epoch 6/80\n",
      "16/16 [==============================] - 1s 46ms/step - loss: 198.3481 - val_loss: 204.0742\n",
      "Epoch 7/80\n",
      "16/16 [==============================] - 1s 68ms/step - loss: 197.6625 - val_loss: 204.0688\n",
      "Epoch 8/80\n",
      "16/16 [==============================] - 1s 42ms/step - loss: 196.7148 - val_loss: 204.0617\n",
      "Epoch 9/80\n",
      "16/16 [==============================] - 0s 28ms/step - loss: 194.7108 - val_loss: 204.0524\n",
      "Epoch 10/80\n",
      "16/16 [==============================] - 0s 28ms/step - loss: 193.2623 - val_loss: 204.0403\n",
      "Epoch 11/80\n",
      "16/16 [==============================] - 0s 28ms/step - loss: 189.3877 - val_loss: 204.0230\n",
      "Epoch 12/80\n",
      "16/16 [==============================] - 0s 27ms/step - loss: 187.3024 - val_loss: 204.0000\n",
      "Epoch 13/80\n",
      "16/16 [==============================] - 0s 27ms/step - loss: 180.2406 - val_loss: 203.9681\n",
      "Epoch 14/80\n",
      "16/16 [==============================] - 0s 27ms/step - loss: 173.3111 - val_loss: 203.9115\n",
      "Epoch 15/80\n",
      "16/16 [==============================] - 0s 27ms/step - loss: 165.0778 - val_loss: 203.8067\n",
      "Epoch 16/80\n",
      "16/16 [==============================] - 0s 26ms/step - loss: 151.0415 - val_loss: 203.7129\n",
      "Epoch 17/80\n",
      "16/16 [==============================] - 0s 27ms/step - loss: 136.0800 - val_loss: 203.4527\n",
      "Epoch 18/80\n",
      "16/16 [==============================] - 0s 26ms/step - loss: 124.8568 - val_loss: 203.2299\n",
      "Epoch 19/80\n",
      "16/16 [==============================] - 0s 27ms/step - loss: 118.0519 - val_loss: 202.6435\n",
      "Epoch 20/80\n",
      "16/16 [==============================] - 0s 27ms/step - loss: 116.7302 - val_loss: 202.3383\n",
      "Epoch 21/80\n",
      "16/16 [==============================] - 0s 27ms/step - loss: 110.7194 - val_loss: 201.2722\n",
      "Epoch 22/80\n",
      "16/16 [==============================] - 0s 27ms/step - loss: 106.0071 - val_loss: 200.0372\n",
      "Epoch 23/80\n",
      "16/16 [==============================] - 0s 27ms/step - loss: 104.6385 - val_loss: 197.9877\n",
      "Epoch 24/80\n",
      "16/16 [==============================] - 0s 27ms/step - loss: 108.2146 - val_loss: 197.6676\n",
      "Epoch 25/80\n",
      "16/16 [==============================] - 0s 27ms/step - loss: 99.7894 - val_loss: 193.7443\n",
      "Epoch 26/80\n",
      "16/16 [==============================] - 0s 27ms/step - loss: 91.3851 - val_loss: 190.4097\n",
      "Epoch 27/80\n",
      "16/16 [==============================] - 0s 28ms/step - loss: 91.2706 - val_loss: 184.8065\n",
      "Epoch 28/80\n",
      "16/16 [==============================] - 0s 27ms/step - loss: 91.3480 - val_loss: 184.5976\n",
      "Epoch 29/80\n",
      "16/16 [==============================] - 0s 27ms/step - loss: 85.5882 - val_loss: 179.1317\n",
      "Epoch 30/80\n",
      "16/16 [==============================] - 0s 27ms/step - loss: 94.2629 - val_loss: 181.8022\n",
      "Epoch 31/80\n",
      "16/16 [==============================] - 0s 27ms/step - loss: 82.1387 - val_loss: 181.6522\n",
      "Epoch 32/80\n",
      "16/16 [==============================] - 0s 27ms/step - loss: 83.8327 - val_loss: 180.6383\n",
      "Epoch 33/80\n",
      "16/16 [==============================] - 0s 28ms/step - loss: 83.9834 - val_loss: 175.6572\n",
      "Epoch 34/80\n",
      "16/16 [==============================] - 0s 28ms/step - loss: 84.4004 - val_loss: 177.6387\n",
      "Epoch 35/80\n",
      "16/16 [==============================] - 0s 28ms/step - loss: 79.9775 - val_loss: 174.9171\n",
      "Epoch 36/80\n",
      "16/16 [==============================] - 0s 27ms/step - loss: 79.0573 - val_loss: 175.4850\n",
      "Epoch 37/80\n",
      "16/16 [==============================] - 0s 28ms/step - loss: 79.8089 - val_loss: 170.8452\n",
      "Epoch 38/80\n",
      "16/16 [==============================] - 0s 27ms/step - loss: 82.9563 - val_loss: 172.6571\n",
      "Epoch 39/80\n",
      "16/16 [==============================] - 0s 27ms/step - loss: 73.8726 - val_loss: 182.2621\n",
      "Epoch 40/80\n",
      "16/16 [==============================] - 0s 28ms/step - loss: 76.9779 - val_loss: 185.1517\n",
      "Epoch 41/80\n",
      "16/16 [==============================] - 0s 27ms/step - loss: 71.4150 - val_loss: 187.8950\n",
      "Epoch 42/80\n",
      "16/16 [==============================] - 0s 27ms/step - loss: 78.0032 - val_loss: 191.2340\n",
      "Epoch 43/80\n",
      "16/16 [==============================] - 0s 27ms/step - loss: 74.4184 - val_loss: 187.3640\n",
      "Epoch 44/80\n",
      "16/16 [==============================] - 0s 28ms/step - loss: 71.5035 - val_loss: 183.0294\n",
      "Epoch 45/80\n",
      "16/16 [==============================] - 0s 28ms/step - loss: 72.8803 - val_loss: 174.5212\n",
      "Epoch 46/80\n",
      "16/16 [==============================] - 0s 27ms/step - loss: 75.6587 - val_loss: 183.4924\n",
      "Epoch 47/80\n",
      "16/16 [==============================] - 0s 28ms/step - loss: 75.4433 - val_loss: 178.2094\n",
      "Epoch 48/80\n",
      "16/16 [==============================] - 0s 27ms/step - loss: 74.8092 - val_loss: 170.6925\n",
      "Epoch 49/80\n",
      "16/16 [==============================] - 0s 28ms/step - loss: 69.6511 - val_loss: 164.0108\n",
      "Epoch 50/80\n",
      "16/16 [==============================] - 1s 32ms/step - loss: 70.8749 - val_loss: 171.5886\n",
      "Epoch 51/80\n",
      "16/16 [==============================] - 0s 29ms/step - loss: 73.7552 - val_loss: 157.9875\n",
      "Epoch 52/80\n",
      "16/16 [==============================] - 0s 28ms/step - loss: 74.7622 - val_loss: 150.5840\n",
      "Epoch 53/80\n",
      "16/16 [==============================] - 0s 28ms/step - loss: 70.2043 - val_loss: 154.1671\n",
      "Epoch 54/80\n",
      "16/16 [==============================] - 0s 27ms/step - loss: 71.3373 - val_loss: 152.0017\n",
      "Epoch 55/80\n",
      "16/16 [==============================] - 0s 27ms/step - loss: 64.5776 - val_loss: 154.7435\n",
      "Epoch 56/80\n",
      "16/16 [==============================] - 0s 27ms/step - loss: 71.8911 - val_loss: 165.6083\n",
      "Epoch 57/80\n",
      "16/16 [==============================] - 0s 27ms/step - loss: 65.9628 - val_loss: 160.4375\n",
      "Epoch 58/80\n",
      "16/16 [==============================] - 0s 27ms/step - loss: 65.5137 - val_loss: 144.2306\n",
      "Epoch 59/80\n",
      "16/16 [==============================] - 0s 27ms/step - loss: 66.3581 - val_loss: 135.9258\n",
      "Epoch 60/80\n",
      "16/16 [==============================] - 0s 28ms/step - loss: 66.1108 - val_loss: 154.1718\n",
      "Epoch 61/80\n",
      "16/16 [==============================] - 0s 28ms/step - loss: 70.7209 - val_loss: 146.5769\n",
      "Epoch 62/80\n",
      "16/16 [==============================] - 0s 28ms/step - loss: 65.2733 - val_loss: 125.1457\n",
      "Epoch 63/80\n",
      "16/16 [==============================] - 0s 27ms/step - loss: 68.8953 - val_loss: 129.2919\n",
      "Epoch 64/80\n",
      "16/16 [==============================] - 0s 28ms/step - loss: 67.9559 - val_loss: 115.3501\n",
      "Epoch 65/80\n",
      "16/16 [==============================] - 0s 28ms/step - loss: 69.0139 - val_loss: 119.2241\n",
      "Epoch 66/80\n",
      "16/16 [==============================] - 0s 28ms/step - loss: 64.8392 - val_loss: 120.8046\n",
      "Epoch 67/80\n",
      "16/16 [==============================] - 0s 28ms/step - loss: 67.5861 - val_loss: 133.7345\n",
      "Epoch 68/80\n",
      "16/16 [==============================] - 0s 27ms/step - loss: 69.0632 - val_loss: 123.7424\n",
      "Epoch 69/80\n",
      "16/16 [==============================] - 0s 28ms/step - loss: 66.1617 - val_loss: 142.3206\n",
      "Epoch 70/80\n",
      "16/16 [==============================] - 0s 28ms/step - loss: 64.2255 - val_loss: 147.5771\n",
      "Epoch 71/80\n",
      "16/16 [==============================] - 0s 27ms/step - loss: 69.0975 - val_loss: 160.7994\n",
      "Epoch 72/80\n",
      "16/16 [==============================] - 0s 28ms/step - loss: 62.6745 - val_loss: 137.9376\n",
      "Epoch 73/80\n",
      "16/16 [==============================] - 0s 27ms/step - loss: 67.1258 - val_loss: 161.2673\n",
      "Epoch 74/80\n",
      "16/16 [==============================] - 0s 28ms/step - loss: 64.7339 - val_loss: 151.5736\n",
      "Epoch 75/80\n",
      "16/16 [==============================] - 0s 28ms/step - loss: 64.5173 - val_loss: 134.6384\n",
      "Epoch 76/80\n",
      "16/16 [==============================] - 0s 27ms/step - loss: 61.0530 - val_loss: 149.2237\n",
      "Epoch 77/80\n",
      "16/16 [==============================] - 0s 28ms/step - loss: 65.3801 - val_loss: 220.2211\n",
      "Epoch 78/80\n",
      "16/16 [==============================] - 0s 27ms/step - loss: 63.5830 - val_loss: 155.5474\n",
      "Epoch 79/80\n",
      "16/16 [==============================] - 0s 28ms/step - loss: 62.2006 - val_loss: 163.2845\n",
      "Epoch 80/80\n"
     ]
    },
    {
     "name": "stdout",
     "output_type": "stream",
     "text": [
      "16/16 [==============================] - 0s 27ms/step - loss: 63.1434 - val_loss: 146.8180\n"
     ]
    },
    {
     "data": {
      "image/png": "[encoded data removed]",
      "text/plain": [
       "<Figure size 432x288 with 1 Axes>"
      ]
     },
     "metadata": {
      "needs_background": "light"
     },
     "output_type": "display_data"
    }
   ],
   "source": [
    "# define MDN Gamma Mean model\n",
    "MDN_model_ref_gamma_mean = model_generator(n_para=3)\n",
    "MDN_model_ref_gamma_mean.compile(optimizer=tf.keras.optimizers.Adam(0.0001), loss=gamma_mean_loss)\n",
    "history_gamma_mean = MDN_model_ref_gamma_mean.fit(train_x, train_y, epochs=80, validation_data=[test_x, test_y])\n",
    "plot_history(history_gamma_mean, 'Regular Training, Gamma MDN, Mean')"
   ]
  },
  {
   "cell_type": "code",
   "execution_count": 24,
   "metadata": {},
   "outputs": [
    {
     "name": "stdout",
     "output_type": "stream",
     "text": [
      "Epoch 1/200\n",
      "16/16 [==============================] - 12s 100ms/step - loss: 62.5850 - val_loss: 165.7774\n",
      "Epoch 2/200\n",
      "16/16 [==============================] - 1s 34ms/step - loss: 53.1651 - val_loss: 166.4678\n",
      "Epoch 3/200\n",
      "16/16 [==============================] - 1s 37ms/step - loss: 45.8832 - val_loss: 160.6608\n",
      "Epoch 4/200\n",
      "16/16 [==============================] - 1s 35ms/step - loss: 39.7374 - val_loss: 154.2601\n",
      "Epoch 5/200\n",
      "16/16 [==============================] - 1s 37ms/step - loss: 34.3650 - val_loss: 147.1115\n",
      "Epoch 6/200\n",
      "16/16 [==============================] - 1s 38ms/step - loss: 30.6276 - val_loss: 139.9658\n",
      "Epoch 7/200\n",
      "16/16 [==============================] - 1s 36ms/step - loss: 27.1943 - val_loss: 133.1129\n",
      "Epoch 8/200\n",
      "16/16 [==============================] - 1s 37ms/step - loss: 24.5809 - val_loss: 126.7268\n",
      "Epoch 9/200\n",
      "16/16 [==============================] - 1s 34ms/step - loss: 21.9697 - val_loss: 121.3874\n",
      "Epoch 10/200\n",
      "16/16 [==============================] - 1s 40ms/step - loss: 19.7469 - val_loss: 115.7959\n",
      "Epoch 11/200\n",
      "16/16 [==============================] - 1s 38ms/step - loss: 18.5416 - val_loss: 109.7711\n",
      "Epoch 12/200\n",
      "16/16 [==============================] - 1s 37ms/step - loss: 17.0823 - val_loss: 104.7965\n",
      "Epoch 13/200\n",
      "16/16 [==============================] - 1s 37ms/step - loss: 15.7231 - val_loss: 99.9289\n",
      "Epoch 14/200\n",
      "16/16 [==============================] - 1s 34ms/step - loss: 14.7437 - val_loss: 96.0820\n",
      "Epoch 15/200\n",
      "16/16 [==============================] - 1s 34ms/step - loss: 13.9295 - val_loss: 91.5142\n",
      "Epoch 16/200\n",
      "16/16 [==============================] - 1s 36ms/step - loss: 13.0078 - val_loss: 86.6114\n",
      "Epoch 17/200\n",
      "16/16 [==============================] - 1s 34ms/step - loss: 12.5275 - val_loss: 81.4776\n",
      "Epoch 18/200\n",
      "16/16 [==============================] - 1s 37ms/step - loss: 11.7764 - val_loss: 74.9445\n",
      "Epoch 19/200\n",
      "16/16 [==============================] - 1s 39ms/step - loss: 11.3556 - val_loss: 68.8137\n",
      "Epoch 20/200\n",
      "16/16 [==============================] - 1s 39ms/step - loss: 10.8481 - val_loss: 64.3833\n",
      "Epoch 21/200\n",
      "16/16 [==============================] - 1s 38ms/step - loss: 10.3452 - val_loss: 59.0142\n",
      "Epoch 22/200\n",
      "16/16 [==============================] - 1s 37ms/step - loss: 10.0550 - val_loss: 54.1462\n",
      "Epoch 23/200\n",
      "16/16 [==============================] - 1s 37ms/step - loss: 9.7055 - val_loss: 49.0115\n",
      "Epoch 24/200\n",
      "16/16 [==============================] - 1s 37ms/step - loss: 9.3824 - val_loss: 44.0658\n",
      "Epoch 25/200\n",
      "16/16 [==============================] - 1s 37ms/step - loss: 9.0454 - val_loss: 41.1914\n",
      "Epoch 26/200\n",
      "16/16 [==============================] - 1s 34ms/step - loss: 8.9486 - val_loss: 37.1306\n",
      "Epoch 27/200\n",
      "16/16 [==============================] - 1s 36ms/step - loss: 8.6226 - val_loss: 33.3561\n",
      "Epoch 28/200\n",
      "16/16 [==============================] - 1s 34ms/step - loss: 8.4663 - val_loss: 29.2278\n",
      "Epoch 29/200\n",
      "16/16 [==============================] - 1s 33ms/step - loss: 8.2817 - val_loss: 25.7573\n",
      "Epoch 30/200\n",
      "16/16 [==============================] - 1s 35ms/step - loss: 8.1138 - val_loss: 24.4140\n",
      "Epoch 31/200\n",
      "16/16 [==============================] - 1s 34ms/step - loss: 8.0875 - val_loss: 23.7046\n",
      "Epoch 32/200\n",
      "16/16 [==============================] - 1s 36ms/step - loss: 7.8408 - val_loss: 20.2186\n",
      "Epoch 33/200\n",
      "16/16 [==============================] - 1s 45ms/step - loss: 7.8681 - val_loss: 18.8261\n",
      "Epoch 34/200\n",
      "16/16 [==============================] - 1s 39ms/step - loss: 7.6309 - val_loss: 17.9323\n",
      "Epoch 35/200\n",
      "16/16 [==============================] - 1s 39ms/step - loss: 7.5510 - val_loss: 17.5060\n",
      "Epoch 36/200\n",
      "16/16 [==============================] - 1s 40ms/step - loss: 7.4715 - val_loss: 14.6634\n",
      "Epoch 37/200\n",
      "16/16 [==============================] - 1s 35ms/step - loss: 7.4138 - val_loss: 13.4154\n",
      "Epoch 38/200\n",
      "16/16 [==============================] - 1s 35ms/step - loss: 7.3431 - val_loss: 11.9695\n",
      "Epoch 39/200\n",
      "16/16 [==============================] - 1s 39ms/step - loss: 7.2240 - val_loss: 11.1076\n",
      "Epoch 40/200\n",
      "16/16 [==============================] - 1s 40ms/step - loss: 7.2418 - val_loss: 10.3974\n",
      "Epoch 41/200\n",
      "16/16 [==============================] - 1s 39ms/step - loss: 7.1553 - val_loss: 10.1356\n",
      "Epoch 42/200\n",
      "16/16 [==============================] - 1s 35ms/step - loss: 7.1064 - val_loss: 10.3202\n",
      "Epoch 43/200\n",
      "16/16 [==============================] - 1s 35ms/step - loss: 7.0635 - val_loss: 10.2547\n",
      "Epoch 44/200\n",
      "16/16 [==============================] - 1s 35ms/step - loss: 6.9760 - val_loss: 10.2323\n",
      "Epoch 45/200\n",
      "16/16 [==============================] - 1s 34ms/step - loss: 6.9576 - val_loss: 9.1654\n",
      "Epoch 46/200\n",
      "16/16 [==============================] - 1s 34ms/step - loss: 6.9279 - val_loss: 7.8602\n",
      "Epoch 47/200\n",
      "16/16 [==============================] - 1s 35ms/step - loss: 6.8878 - val_loss: 7.5688\n",
      "Epoch 48/200\n",
      "16/16 [==============================] - 1s 34ms/step - loss: 6.9174 - val_loss: 8.7219\n",
      "Epoch 49/200\n",
      "16/16 [==============================] - 1s 35ms/step - loss: 6.8420 - val_loss: 8.7246\n",
      "Epoch 50/200\n",
      "16/16 [==============================] - 1s 38ms/step - loss: 6.7761 - val_loss: 8.7443\n",
      "Epoch 51/200\n",
      "16/16 [==============================] - 1s 36ms/step - loss: 6.7602 - val_loss: 8.5701\n",
      "Epoch 52/200\n",
      "16/16 [==============================] - 1s 38ms/step - loss: 6.8073 - val_loss: 8.6944\n",
      "Epoch 53/200\n",
      "16/16 [==============================] - 1s 37ms/step - loss: 6.7645 - val_loss: 9.0998\n",
      "Epoch 54/200\n",
      "16/16 [==============================] - 1s 33ms/step - loss: 6.6848 - val_loss: 8.6405\n",
      "Epoch 55/200\n",
      "16/16 [==============================] - 1s 34ms/step - loss: 6.8173 - val_loss: 8.5816\n",
      "Epoch 56/200\n",
      "16/16 [==============================] - 1s 38ms/step - loss: 6.6549 - val_loss: 8.1975\n",
      "Epoch 57/200\n",
      "16/16 [==============================] - 1s 36ms/step - loss: 6.6093 - val_loss: 7.3537\n",
      "Epoch 58/200\n",
      "16/16 [==============================] - 1s 45ms/step - loss: 6.6750 - val_loss: 7.3043\n",
      "Epoch 59/200\n",
      "16/16 [==============================] - 1s 38ms/step - loss: 6.6149 - val_loss: 7.1716\n",
      "Epoch 60/200\n",
      "16/16 [==============================] - 1s 35ms/step - loss: 6.5870 - val_loss: 7.2602\n",
      "Epoch 61/200\n",
      "16/16 [==============================] - 1s 35ms/step - loss: 6.5758 - val_loss: 7.7315\n",
      "Epoch 62/200\n",
      "16/16 [==============================] - 1s 35ms/step - loss: 6.6193 - val_loss: 7.3886\n",
      "Epoch 63/200\n",
      "16/16 [==============================] - 1s 36ms/step - loss: 6.5519 - val_loss: 7.4137\n",
      "Epoch 64/200\n",
      "16/16 [==============================] - 1s 35ms/step - loss: 6.6087 - val_loss: 7.5898\n",
      "Epoch 65/200\n",
      "16/16 [==============================] - 1s 36ms/step - loss: 6.5528 - val_loss: 7.7438\n",
      "Epoch 66/200\n",
      "16/16 [==============================] - 1s 39ms/step - loss: 6.5279 - val_loss: 8.3654\n",
      "Epoch 67/200\n",
      "16/16 [==============================] - 1s 36ms/step - loss: 6.5445 - val_loss: 8.4943\n",
      "Epoch 68/200\n",
      "16/16 [==============================] - 1s 36ms/step - loss: 6.5252 - val_loss: 7.6869\n",
      "Epoch 69/200\n",
      "16/16 [==============================] - 1s 38ms/step - loss: 6.5621 - val_loss: 7.9406\n",
      "Epoch 70/200\n",
      "16/16 [==============================] - 1s 34ms/step - loss: 6.5241 - val_loss: 7.6641\n",
      "Epoch 71/200\n",
      "16/16 [==============================] - 1s 34ms/step - loss: 6.4981 - val_loss: 7.8875\n",
      "Epoch 72/200\n",
      "16/16 [==============================] - 1s 34ms/step - loss: 6.5174 - val_loss: 7.5881\n",
      "Epoch 73/200\n",
      "16/16 [==============================] - 1s 34ms/step - loss: 6.5019 - val_loss: 7.8673\n",
      "Epoch 74/200\n",
      "16/16 [==============================] - 1s 35ms/step - loss: 6.5165 - val_loss: 7.3889\n",
      "Epoch 75/200\n",
      "16/16 [==============================] - 1s 38ms/step - loss: 6.4994 - val_loss: 9.3725\n",
      "Epoch 76/200\n",
      "16/16 [==============================] - 1s 37ms/step - loss: 6.4807 - val_loss: 10.2038\n",
      "Epoch 77/200\n",
      "16/16 [==============================] - 1s 41ms/step - loss: 6.4575 - val_loss: 9.9656\n",
      "Epoch 78/200\n",
      "16/16 [==============================] - 1s 39ms/step - loss: 6.4750 - val_loss: 9.4409\n",
      "Epoch 79/200\n",
      "16/16 [==============================] - 1s 35ms/step - loss: 6.4589 - val_loss: 9.1882\n",
      "Epoch 80/200\n",
      "16/16 [==============================] - 1s 37ms/step - loss: 6.4841 - val_loss: 8.2936\n",
      "Epoch 81/200\n"
     ]
    },
    {
     "name": "stdout",
     "output_type": "stream",
     "text": [
      "16/16 [==============================] - 1s 35ms/step - loss: 6.4815 - val_loss: 7.4623\n",
      "Epoch 82/200\n",
      "16/16 [==============================] - 1s 34ms/step - loss: 6.4426 - val_loss: 6.8944\n",
      "Epoch 83/200\n",
      "16/16 [==============================] - 1s 36ms/step - loss: 6.4333 - val_loss: 6.7733\n",
      "Epoch 84/200\n",
      "16/16 [==============================] - 1s 35ms/step - loss: 6.4956 - val_loss: 6.6814\n",
      "Epoch 85/200\n",
      "16/16 [==============================] - 1s 35ms/step - loss: 6.4909 - val_loss: 6.8926\n",
      "Epoch 86/200\n",
      "16/16 [==============================] - 1s 39ms/step - loss: 6.4886 - val_loss: 7.4573\n",
      "Epoch 87/200\n",
      "16/16 [==============================] - 1s 39ms/step - loss: 6.4401 - val_loss: 7.2678\n",
      "Epoch 88/200\n",
      "16/16 [==============================] - 1s 40ms/step - loss: 6.4318 - val_loss: 7.3283\n",
      "Epoch 89/200\n",
      "16/16 [==============================] - 1s 38ms/step - loss: 6.4863 - val_loss: 7.0196\n",
      "Epoch 90/200\n",
      "16/16 [==============================] - 1s 39ms/step - loss: 6.4686 - val_loss: 6.8070\n",
      "Epoch 91/200\n",
      "16/16 [==============================] - 1s 40ms/step - loss: 6.4331 - val_loss: 6.9608\n",
      "Epoch 92/200\n",
      "16/16 [==============================] - 1s 42ms/step - loss: 6.4645 - val_loss: 6.9273\n",
      "Epoch 93/200\n",
      "16/16 [==============================] - 1s 42ms/step - loss: 6.4267 - val_loss: 7.0962\n",
      "Epoch 94/200\n",
      "16/16 [==============================] - 1s 39ms/step - loss: 6.4321 - val_loss: 7.1785\n",
      "Epoch 95/200\n",
      "16/16 [==============================] - 1s 39ms/step - loss: 6.4663 - val_loss: 6.9852\n",
      "Epoch 96/200\n",
      "16/16 [==============================] - 1s 38ms/step - loss: 6.4529 - val_loss: 7.8083\n",
      "Epoch 97/200\n",
      "16/16 [==============================] - 1s 39ms/step - loss: 6.5436 - val_loss: 7.7478\n",
      "Epoch 98/200\n",
      "16/16 [==============================] - 1s 38ms/step - loss: 6.5070 - val_loss: 7.7521\n",
      "Epoch 99/200\n",
      "16/16 [==============================] - 1s 39ms/step - loss: 6.4535 - val_loss: 7.3263\n",
      "Epoch 100/200\n",
      "16/16 [==============================] - 1s 42ms/step - loss: 6.4588 - val_loss: 6.8920\n",
      "Epoch 101/200\n",
      "16/16 [==============================] - 1s 42ms/step - loss: 6.4297 - val_loss: 6.7623\n",
      "Epoch 102/200\n",
      "16/16 [==============================] - 1s 43ms/step - loss: 6.4287 - val_loss: 6.6668\n",
      "Epoch 103/200\n",
      "16/16 [==============================] - 1s 40ms/step - loss: 6.4412 - val_loss: 6.8473\n",
      "Epoch 104/200\n",
      "16/16 [==============================] - 1s 41ms/step - loss: 6.4587 - val_loss: 6.8195\n",
      "Epoch 105/200\n",
      "16/16 [==============================] - 1s 41ms/step - loss: 6.3858 - val_loss: 6.7614\n",
      "Epoch 106/200\n",
      "16/16 [==============================] - 1s 39ms/step - loss: 6.4023 - val_loss: 6.6953\n",
      "Epoch 107/200\n",
      "16/16 [==============================] - 1s 38ms/step - loss: 6.4182 - val_loss: 6.6167\n",
      "Epoch 108/200\n",
      "16/16 [==============================] - 1s 38ms/step - loss: 6.3976 - val_loss: 6.7051\n",
      "Epoch 109/200\n",
      "16/16 [==============================] - 1s 40ms/step - loss: 6.4288 - val_loss: 6.8092\n",
      "Epoch 110/200\n",
      "16/16 [==============================] - 1s 39ms/step - loss: 6.4418 - val_loss: 6.7904\n",
      "Epoch 111/200\n",
      "16/16 [==============================] - 1s 40ms/step - loss: 6.3851 - val_loss: 6.8542\n",
      "Epoch 112/200\n",
      "16/16 [==============================] - 1s 38ms/step - loss: 6.4108 - val_loss: 6.6774\n",
      "Epoch 113/200\n",
      "16/16 [==============================] - 1s 39ms/step - loss: 6.4056 - val_loss: 6.8222\n",
      "Epoch 114/200\n",
      "16/16 [==============================] - 1s 38ms/step - loss: 6.3812 - val_loss: 7.0165\n",
      "Epoch 115/200\n",
      "16/16 [==============================] - 1s 39ms/step - loss: 6.3916 - val_loss: 7.5773\n",
      "Epoch 116/200\n",
      "16/16 [==============================] - 1s 36ms/step - loss: 6.4004 - val_loss: 7.1586\n",
      "Epoch 117/200\n",
      "16/16 [==============================] - 1s 35ms/step - loss: 6.3787 - val_loss: 7.2015\n",
      "Epoch 118/200\n",
      "16/16 [==============================] - 1s 34ms/step - loss: 6.3607 - val_loss: 7.0325\n",
      "Epoch 119/200\n",
      "16/16 [==============================] - 1s 34ms/step - loss: 6.3773 - val_loss: 7.0360\n",
      "Epoch 120/200\n",
      "16/16 [==============================] - 1s 34ms/step - loss: 6.4041 - val_loss: 7.1695\n",
      "Epoch 121/200\n",
      "16/16 [==============================] - 1s 34ms/step - loss: 6.3994 - val_loss: 7.1140\n",
      "Epoch 122/200\n",
      "16/16 [==============================] - 1s 34ms/step - loss: 6.3944 - val_loss: 6.8499\n",
      "Epoch 123/200\n",
      "16/16 [==============================] - 1s 35ms/step - loss: 6.3892 - val_loss: 6.7044\n",
      "Epoch 124/200\n",
      "16/16 [==============================] - 1s 34ms/step - loss: 6.4035 - val_loss: 6.6460\n",
      "Epoch 125/200\n",
      "16/16 [==============================] - 1s 34ms/step - loss: 6.3663 - val_loss: 6.6253\n",
      "Epoch 126/200\n",
      "16/16 [==============================] - 1s 34ms/step - loss: 6.3872 - val_loss: 6.6102\n",
      "Epoch 127/200\n",
      "16/16 [==============================] - 1s 34ms/step - loss: 6.3927 - val_loss: 6.6471\n",
      "Epoch 128/200\n",
      "16/16 [==============================] - 1s 34ms/step - loss: 6.3829 - val_loss: 6.6823\n",
      "Epoch 129/200\n",
      "16/16 [==============================] - 1s 34ms/step - loss: 6.3635 - val_loss: 6.6028\n",
      "Epoch 130/200\n",
      "16/16 [==============================] - 1s 34ms/step - loss: 6.3792 - val_loss: 6.6871\n",
      "Epoch 131/200\n",
      "16/16 [==============================] - 1s 34ms/step - loss: 6.4167 - val_loss: 6.8471\n",
      "Epoch 132/200\n",
      "16/16 [==============================] - 1s 34ms/step - loss: 6.3827 - val_loss: 6.8505\n",
      "Epoch 133/200\n",
      "16/16 [==============================] - 1s 34ms/step - loss: 6.4288 - val_loss: 7.5574\n",
      "Epoch 134/200\n",
      "16/16 [==============================] - 1s 34ms/step - loss: 6.4338 - val_loss: 7.1866\n",
      "Epoch 135/200\n",
      "16/16 [==============================] - 1s 34ms/step - loss: 6.4031 - val_loss: 7.1277\n",
      "Epoch 136/200\n",
      "16/16 [==============================] - 1s 38ms/step - loss: 6.3758 - val_loss: 6.9698\n",
      "Epoch 137/200\n",
      "16/16 [==============================] - 1s 40ms/step - loss: 6.3672 - val_loss: 6.6341\n",
      "Epoch 138/200\n",
      "16/16 [==============================] - 1s 42ms/step - loss: 6.4117 - val_loss: 6.7070\n",
      "Epoch 139/200\n",
      "16/16 [==============================] - 1s 41ms/step - loss: 6.3884 - val_loss: 6.7365\n",
      "Epoch 140/200\n",
      "16/16 [==============================] - 1s 41ms/step - loss: 6.3933 - val_loss: 6.6902\n",
      "Epoch 141/200\n",
      "16/16 [==============================] - 1s 41ms/step - loss: 6.4026 - val_loss: 6.5948\n",
      "Epoch 142/200\n",
      "16/16 [==============================] - 1s 40ms/step - loss: 6.3628 - val_loss: 6.5952\n",
      "Epoch 143/200\n",
      "16/16 [==============================] - 1s 38ms/step - loss: 6.3828 - val_loss: 6.7869\n",
      "Epoch 144/200\n",
      "16/16 [==============================] - 1s 38ms/step - loss: 6.3705 - val_loss: 6.9005\n",
      "Epoch 145/200\n",
      "16/16 [==============================] - 1s 37ms/step - loss: 6.3985 - val_loss: 7.2202\n",
      "Epoch 146/200\n",
      "16/16 [==============================] - 1s 37ms/step - loss: 6.3706 - val_loss: 6.8687\n",
      "Epoch 147/200\n",
      "16/16 [==============================] - 1s 37ms/step - loss: 6.3755 - val_loss: 6.7878\n",
      "Epoch 148/200\n",
      "16/16 [==============================] - 1s 37ms/step - loss: 6.3411 - val_loss: 6.7990\n",
      "Epoch 149/200\n",
      "16/16 [==============================] - 1s 38ms/step - loss: 6.3700 - val_loss: 6.6929\n",
      "Epoch 150/200\n",
      "16/16 [==============================] - 1s 37ms/step - loss: 6.3555 - val_loss: 6.7095\n",
      "Epoch 151/200\n",
      "16/16 [==============================] - 1s 37ms/step - loss: 6.3701 - val_loss: 6.7425\n",
      "Epoch 152/200\n",
      "16/16 [==============================] - 1s 37ms/step - loss: 6.3519 - val_loss: 6.5914\n",
      "Epoch 153/200\n",
      "16/16 [==============================] - 1s 37ms/step - loss: 6.3576 - val_loss: 6.5838\n",
      "Epoch 154/200\n",
      "16/16 [==============================] - 1s 38ms/step - loss: 6.3701 - val_loss: 6.6012\n",
      "Epoch 155/200\n",
      "16/16 [==============================] - 1s 39ms/step - loss: 6.3661 - val_loss: 6.6887\n",
      "Epoch 156/200\n",
      "16/16 [==============================] - 1s 38ms/step - loss: 6.3770 - val_loss: 6.8251\n",
      "Epoch 157/200\n",
      "16/16 [==============================] - 1s 37ms/step - loss: 6.3706 - val_loss: 7.1590\n",
      "Epoch 158/200\n",
      "16/16 [==============================] - 1s 37ms/step - loss: 6.3639 - val_loss: 7.4775\n",
      "Epoch 159/200\n",
      "16/16 [==============================] - 1s 39ms/step - loss: 6.3592 - val_loss: 8.1331\n",
      "Epoch 160/200\n",
      "16/16 [==============================] - 1s 39ms/step - loss: 6.3510 - val_loss: 8.1921\n",
      "Epoch 161/200\n"
     ]
    },
    {
     "name": "stdout",
     "output_type": "stream",
     "text": [
      "16/16 [==============================] - 1s 37ms/step - loss: 6.3449 - val_loss: 7.7996\n",
      "Epoch 162/200\n",
      "16/16 [==============================] - 1s 36ms/step - loss: 6.3529 - val_loss: 7.4890\n",
      "Epoch 163/200\n",
      "16/16 [==============================] - 1s 36ms/step - loss: 6.3679 - val_loss: 7.3364\n",
      "Epoch 164/200\n",
      "16/16 [==============================] - 1s 36ms/step - loss: 6.3836 - val_loss: 7.4411\n",
      "Epoch 165/200\n",
      "16/16 [==============================] - 1s 42ms/step - loss: 6.3841 - val_loss: 8.2016\n",
      "Epoch 166/200\n",
      "16/16 [==============================] - 1s 43ms/step - loss: 6.3912 - val_loss: 8.0978\n",
      "Epoch 167/200\n",
      "16/16 [==============================] - 1s 42ms/step - loss: 6.3787 - val_loss: 8.2480\n",
      "Epoch 168/200\n",
      "16/16 [==============================] - 1s 41ms/step - loss: 6.3383 - val_loss: 7.8294\n",
      "Epoch 169/200\n",
      "16/16 [==============================] - 1s 40ms/step - loss: 6.3614 - val_loss: 7.4916\n",
      "Epoch 170/200\n",
      "16/16 [==============================] - 1s 39ms/step - loss: 6.3533 - val_loss: 7.5388\n",
      "Epoch 171/200\n",
      "16/16 [==============================] - 1s 38ms/step - loss: 6.3463 - val_loss: 7.9062\n",
      "Epoch 172/200\n",
      "16/16 [==============================] - 1s 34ms/step - loss: 6.3478 - val_loss: 7.3497\n",
      "Epoch 173/200\n",
      "16/16 [==============================] - 1s 33ms/step - loss: 6.3401 - val_loss: 7.2393\n",
      "Epoch 174/200\n",
      "16/16 [==============================] - 1s 33ms/step - loss: 6.3483 - val_loss: 7.2896\n",
      "Epoch 175/200\n",
      "16/16 [==============================] - 1s 34ms/step - loss: 6.3419 - val_loss: 7.5400\n",
      "Epoch 176/200\n",
      "16/16 [==============================] - 1s 33ms/step - loss: 6.3476 - val_loss: 7.8890\n",
      "Epoch 177/200\n",
      "16/16 [==============================] - 1s 33ms/step - loss: 6.3289 - val_loss: 7.7041\n",
      "Epoch 178/200\n",
      "16/16 [==============================] - 1s 40ms/step - loss: 6.3390 - val_loss: 7.6812\n",
      "Epoch 179/200\n",
      "16/16 [==============================] - 1s 36ms/step - loss: 6.3571 - val_loss: 7.1220\n",
      "Epoch 180/200\n",
      "16/16 [==============================] - 1s 33ms/step - loss: 6.3452 - val_loss: 7.0874\n",
      "Epoch 181/200\n",
      "16/16 [==============================] - 1s 33ms/step - loss: 6.3494 - val_loss: 6.8593\n",
      "Epoch 182/200\n",
      "16/16 [==============================] - 1s 33ms/step - loss: 6.3581 - val_loss: 6.7186\n",
      "Epoch 183/200\n",
      "16/16 [==============================] - 1s 33ms/step - loss: 6.3508 - val_loss: 6.6806\n",
      "Epoch 184/200\n",
      "16/16 [==============================] - 1s 32ms/step - loss: 6.3637 - val_loss: 6.7519\n",
      "Epoch 185/200\n",
      "16/16 [==============================] - 1s 33ms/step - loss: 6.3633 - val_loss: 7.1467\n",
      "Epoch 186/200\n",
      "16/16 [==============================] - 1s 33ms/step - loss: 6.3385 - val_loss: 7.2738\n",
      "Epoch 187/200\n",
      "16/16 [==============================] - 1s 33ms/step - loss: 6.3250 - val_loss: 7.4529\n",
      "Epoch 188/200\n",
      "16/16 [==============================] - 1s 33ms/step - loss: 6.3303 - val_loss: 9.2516\n",
      "Epoch 189/200\n",
      "16/16 [==============================] - 1s 33ms/step - loss: 6.3484 - val_loss: 7.3631\n",
      "Epoch 190/200\n",
      "16/16 [==============================] - 1s 32ms/step - loss: 6.3479 - val_loss: 7.0081\n",
      "Epoch 191/200\n",
      "16/16 [==============================] - 1s 33ms/step - loss: 6.3383 - val_loss: 7.0682\n",
      "Epoch 192/200\n",
      "16/16 [==============================] - 1s 33ms/step - loss: 6.3486 - val_loss: 6.7820\n",
      "Epoch 193/200\n",
      "16/16 [==============================] - 1s 33ms/step - loss: 6.3342 - val_loss: 7.1753\n",
      "Epoch 194/200\n",
      "16/16 [==============================] - 1s 33ms/step - loss: 6.3483 - val_loss: 7.0631\n",
      "Epoch 195/200\n",
      "16/16 [==============================] - 1s 33ms/step - loss: 6.3398 - val_loss: 7.2043\n",
      "Epoch 196/200\n",
      "16/16 [==============================] - 1s 33ms/step - loss: 6.3270 - val_loss: 8.7720\n",
      "Epoch 197/200\n",
      "16/16 [==============================] - 1s 33ms/step - loss: 6.3326 - val_loss: 9.0416\n",
      "Epoch 198/200\n",
      "16/16 [==============================] - 1s 32ms/step - loss: 6.3321 - val_loss: 8.3647\n",
      "Epoch 199/200\n",
      "16/16 [==============================] - 1s 33ms/step - loss: 6.3348 - val_loss: 7.5308\n",
      "Epoch 200/200\n",
      "16/16 [==============================] - 1s 33ms/step - loss: 6.3146 - val_loss: 7.0416\n"
     ]
    },
    {
     "data": {
      "image/png": "[encoded data removed]",
      "text/plain": [
       "<Figure size 432x288 with 1 Axes>"
      ]
     },
     "metadata": {
      "needs_background": "light"
     },
     "output_type": "display_data"
    }
   ],
   "source": [
    "# define MDN Exponentialmodel\n",
    "MDN_model_ref_exponential = model_generator(n_para=2)\n",
    "MDN_model_ref_exponential.compile(optimizer=tf.keras.optimizers.Adam(0.0001), loss=exponential_loss)\n",
    "history_exponential = MDN_model_ref_exponential.fit(train_x, train_y, epochs=200, validation_data=[test_x, test_y])\n",
    "plot_history(history_exponential, 'Regular Training, Exponential MDN, Likelihood')"
   ]
  },
  {
   "cell_type": "markdown",
   "metadata": {},
   "source": [
    "The MAE between mean of MD and Y is not a stable loss to track."
   ]
  },
  {
   "cell_type": "markdown",
   "metadata": {},
   "source": [
    "## 3. Debug Meta Learning Algorithm"
   ]
  },
  {
   "cell_type": "code",
   "execution_count": 48,
   "metadata": {},
   "outputs": [],
   "source": [
    "# define necessary tool functions\n",
    "components = 100\n",
    "no_parameters = 3\n",
    "data = [g_data, m_data]\n",
    "lats_lons = [G_lats, G_lons, M_lats, M_lons]\n",
    "task_dim = 3\n",
    "test_proportion = 0.5\n",
    "n_lag = 10\n",
    "\n",
    "# define MDN model\n",
    "# input dim (time, channel, rows, cols)\n",
    "input1 = layers.Input(shape=(n_lag, 1, task_dim, task_dim)) \n",
    "input1 = layers.BatchNormalization()(input1)\n",
    "input2 = layers.Input(shape=(task_dim, task_dim, 1))\n",
    "input2 = layers.BatchNormalization()(input2)\n",
    "input3 = layers.Input(shape=(1))\n",
    "input3 = layers.BatchNormalization()(input3)\n",
    "\n",
    "X = layers.ConvLSTM2D(filters=20, kernel_size=(1,2), activation='tanh', return_sequences=True)(input1)\n",
    "X = layers.ConvLSTM2D(filters=20, kernel_size=(1,2), activation='relu', return_sequences=True)(X)\n",
    "X = layers.ConvLSTM2D(filters=20, kernel_size=(1,1), activation='relu')(X)\n",
    "X = layers.Flatten()(X)\n",
    "X = layers.Dense(512, activation='relu')(X)\n",
    "X = layers.BatchNormalization()(X)\n",
    "X = layers.Dense(300, activation='relu')(X)\n",
    "\n",
    "X1 = layers.Conv2D(20, (2,2), activation='tanh')(input2)\n",
    "X1 = layers.Flatten()(X1)\n",
    "X2 = layers.BatchNormalization()(input3)\n",
    "X2 = layers.Dense(30, activation='relu')(X2)\n",
    "\n",
    "X = layers.Concatenate()([X, X1, X2])\n",
    "X = layers.Dense(128, activation='tanh')(X)\n",
    "X = layers.BatchNormalization()(X)\n",
    "X = layers.Dense(128, activation='relu')(X)\n",
    "X = layers.BatchNormalization()(X)\n",
    "X = layers.Dense(128, activation='tanh')(X)\n",
    "X = layers.BatchNormalization()(X)\n",
    "alphas = layers.Dense(components*task_dim*task_dim, activation=\"softmax\")(X)\n",
    "#alphas = layers.Reshape((task_dim, task_dim, components), name=\"alphas\")(alphas)\n",
    "mus = layers.Dense(components*task_dim*task_dim, activation='nnelu')(X)\n",
    "#mus = layers.Reshape((task_dim, task_dim, components) ,name=\"mus\")(mus)\n",
    "sigmas = layers.Dense(components*task_dim*task_dim, activation=\"nnelu\", name=\"sigmas\")(X)\n",
    "output = layers.Concatenate()([alphas, mus, sigmas])\n",
    "MDN_model = Model([input1, input2, input3], output)\n",
    "\n",
    "# define TaskExtractor\n",
    "\n",
    "taskextractor = TaskExtractor(data, lats_lons, task_dim, test_proportion, n_lag)"
   ]
  },
  {
   "cell_type": "code",
   "execution_count": 85,
   "metadata": {},
   "outputs": [],
   "source": [
    "reload(probdownscale.MetaTrain)\n",
    "from probdownscale.MetaTrain import MetaSGD\n",
    "# define meta learner\n",
    "meta_optimizer = tf.keras.optimizers.Adam(0.0001)\n",
    "inner_step = 1\n",
    "inner_optimizer = tf.keras.optimizers.Adam(0.0001)\n",
    "\n",
    "meta_learner = MetaSGD(MDN_model_ref_gamma, gamma_loss,  meta_optimizer, inner_step, inner_optimizer, taskextractor)"
   ]
  },
  {
   "cell_type": "code",
   "execution_count": 86,
   "metadata": {},
   "outputs": [
    {
     "name": "stdout",
     "output_type": "stream",
     "text": [
      "Meta lr: <tf.Variable 'learning_rate:0' shape=() dtype=float32, numpy=1e-04>\n",
      "Epoch: 1 / 1  Basic training step:  1 / 8 loss:  8.044791\n",
      "Meta lr: <tf.Variable 'learning_rate:0' shape=() dtype=float32, numpy=1e-04>\n",
      "Epoch: 1 / 1  Basic training step:  2 / 8 loss:  7.875865\n",
      "Meta lr: <tf.Variable 'learning_rate:0' shape=() dtype=float32, numpy=1e-04>\n",
      "Epoch: 1 / 1  Basic training step:  3 / 8 loss:  8.740582\n",
      "Meta lr: <tf.Variable 'learning_rate:0' shape=() dtype=float32, numpy=1e-04>\n",
      "Epoch: 1 / 1  Basic training step:  4 / 8 loss:  6.675441\n",
      "Meta lr: <tf.Variable 'learning_rate:0' shape=() dtype=float32, numpy=1e-04>\n",
      "Epoch: 1 / 1  Basic training step:  5 / 8 loss:  7.048004\n",
      "Meta lr: <tf.Variable 'learning_rate:0' shape=() dtype=float32, numpy=1e-04>\n",
      "Epoch: 1 / 1  Basic training step:  6 / 8 loss:  6.378797\n",
      "Meta lr: <tf.Variable 'learning_rate:0' shape=() dtype=float32, numpy=1e-04>\n",
      "Epoch: 1 / 1  Basic training step:  7 / 8 loss:  7.4887757\n",
      "Meta lr: <tf.Variable 'learning_rate:0' shape=() dtype=float32, numpy=1e-04>\n",
      "Epoch: 1 / 1  Basic training step:  8 / 8 loss:  8.761923\n",
      "Meta lr: <tf.Variable 'learning_rate:0' shape=() dtype=float32, numpy=1e-04>\n",
      "Epoch: 1 / 1 Bootstrap training step: 1 / 10 loss:  7.122944\n",
      "Meta lr: <tf.Variable 'learning_rate:0' shape=() dtype=float32, numpy=1e-04>\n",
      "Epoch: 1 / 1 Bootstrap training step: 2 / 10 loss:  7.2292275\n",
      "Meta lr: <tf.Variable 'learning_rate:0' shape=() dtype=float32, numpy=1e-04>\n",
      "Epoch: 1 / 1 Bootstrap training step: 3 / 10 loss:  6.6476793\n",
      "Meta lr: <tf.Variable 'learning_rate:0' shape=() dtype=float32, numpy=1e-04>\n",
      "Epoch: 1 / 1 Bootstrap training step: 4 / 10 loss:  6.599504\n",
      "Meta lr: <tf.Variable 'learning_rate:0' shape=() dtype=float32, numpy=1e-04>\n",
      "Epoch: 1 / 1 Bootstrap training step: 5 / 10 loss:  7.3754716\n",
      "Meta lr: <tf.Variable 'learning_rate:0' shape=() dtype=float32, numpy=1e-04>\n",
      "Epoch: 1 / 1 Bootstrap training step: 6 / 10 loss:  7.7741456\n",
      "Meta lr: <tf.Variable 'learning_rate:0' shape=() dtype=float32, numpy=1e-04>\n",
      "Epoch: 1 / 1 Bootstrap training step: 7 / 10 loss:  7.192373\n",
      "Meta lr: <tf.Variable 'learning_rate:0' shape=() dtype=float32, numpy=1e-04>\n",
      "Epoch: 1 / 1 Bootstrap training step: 8 / 10 loss:  6.7659454\n",
      "Meta lr: <tf.Variable 'learning_rate:0' shape=() dtype=float32, numpy=1e-04>\n",
      "Epoch: 1 / 1 Bootstrap training step: 9 / 10 loss:  6.7781\n",
      "Meta lr: <tf.Variable 'learning_rate:0' shape=() dtype=float32, numpy=1e-04>\n",
      "Epoch: 1 / 1 Bootstrap training step: 10 / 10 loss:  7.2827406\n"
     ]
    },
    {
     "data": {
      "image/png": "[encoded data removed]",
      "text/plain": [
       "<Figure size 432x288 with 1 Axes>"
      ]
     },
     "metadata": {
      "needs_background": "light"
     },
     "output_type": "display_data"
    }
   ],
   "source": [
    "# meta train\n",
    "meta_history = meta_learner.meta_fit(1, batch_size=10, basic_train=True, bootstrap_train=True, use_test_for_meta=True, randomize=True)\n",
    "plt.plot(meta_history)\n",
    "plt.title('Meta Training History')\n",
    "plt.show()"
   ]
  },
  {
   "cell_type": "code",
   "execution_count": null,
   "metadata": {},
   "outputs": [],
   "source": [
    "meta_weights = meta_learner.meta_model.get_weights()"
   ]
  },
  {
   "cell_type": "code",
   "execution_count": 55,
   "metadata": {},
   "outputs": [],
   "source": [
    "meta_learner.meta_model.set_weights(meta_weights)"
   ]
  },
  {
   "cell_type": "code",
   "execution_count": 65,
   "metadata": {},
   "outputs": [
    {
     "name": "stdout",
     "output_type": "stream",
     "text": [
      "Epoch 1/30\n",
      "16/16 [==============================] - 10s 95ms/step - loss: 17.1326 - val_loss: 64.7068\n",
      "Epoch 2/30\n",
      "16/16 [==============================] - 1s 35ms/step - loss: 17.0876 - val_loss: 60.8936\n",
      "Epoch 3/30\n",
      "16/16 [==============================] - 1s 32ms/step - loss: 17.1282 - val_loss: 56.9644\n",
      "Epoch 4/30\n",
      "16/16 [==============================] - 1s 32ms/step - loss: 16.9905 - val_loss: 53.2834\n",
      "Epoch 5/30\n",
      "16/16 [==============================] - 1s 32ms/step - loss: 16.9556 - val_loss: 49.9109\n",
      "Epoch 6/30\n",
      "16/16 [==============================] - 1s 32ms/step - loss: 16.9640 - val_loss: 46.7559\n",
      "Epoch 7/30\n",
      "16/16 [==============================] - 1s 40ms/step - loss: 16.8612 - val_loss: 43.5724\n",
      "Epoch 8/30\n",
      "16/16 [==============================] - 1s 51ms/step - loss: 16.9129 - val_loss: 40.4602\n",
      "Epoch 9/30\n",
      "16/16 [==============================] - 1s 52ms/step - loss: 16.9845 - val_loss: 37.5968\n",
      "Epoch 10/30\n",
      "16/16 [==============================] - 1s 43ms/step - loss: 16.9444 - val_loss: 34.9362\n",
      "Epoch 11/30\n",
      "16/16 [==============================] - 1s 42ms/step - loss: 16.7945 - val_loss: 32.4835\n",
      "Epoch 12/30\n",
      "16/16 [==============================] - 1s 46ms/step - loss: 16.6905 - val_loss: 30.2705\n",
      "Epoch 13/30\n",
      "16/16 [==============================] - 1s 53ms/step - loss: 16.7290 - val_loss: 28.3344\n",
      "Epoch 14/30\n",
      "16/16 [==============================] - 1s 55ms/step - loss: 16.7687 - val_loss: 26.6371\n",
      "Epoch 15/30\n",
      "16/16 [==============================] - 1s 66ms/step - loss: 16.7123 - val_loss: 25.1732\n",
      "Epoch 16/30\n",
      "16/16 [==============================] - 1s 41ms/step - loss: 16.8793 - val_loss: 23.8923\n",
      "Epoch 17/30\n",
      "16/16 [==============================] - 1s 41ms/step - loss: 16.7205 - val_loss: 22.7872\n",
      "Epoch 18/30\n",
      "16/16 [==============================] - 1s 40ms/step - loss: 16.6945 - val_loss: 21.8479\n",
      "Epoch 19/30\n",
      "16/16 [==============================] - 1s 41ms/step - loss: 16.6407 - val_loss: 20.9911\n",
      "Epoch 20/30\n",
      "16/16 [==============================] - 1s 41ms/step - loss: 16.6072 - val_loss: 20.2465\n",
      "Epoch 21/30\n",
      "16/16 [==============================] - 1s 43ms/step - loss: 16.5655 - val_loss: 19.6016\n",
      "Epoch 22/30\n",
      "16/16 [==============================] - 1s 47ms/step - loss: 16.5380 - val_loss: 18.9994\n",
      "Epoch 23/30\n",
      "16/16 [==============================] - 1s 52ms/step - loss: 16.6524 - val_loss: 18.4994\n",
      "Epoch 24/30\n",
      "16/16 [==============================] - 1s 45ms/step - loss: 16.4540 - val_loss: 18.0386\n",
      "Epoch 25/30\n",
      "16/16 [==============================] - 1s 54ms/step - loss: 16.4764 - val_loss: 17.6525\n",
      "Epoch 26/30\n",
      "16/16 [==============================] - 1s 60ms/step - loss: 16.5531 - val_loss: 17.3409\n",
      "Epoch 27/30\n",
      "16/16 [==============================] - 1s 49ms/step - loss: 16.5120 - val_loss: 17.0751\n",
      "Epoch 28/30\n",
      "16/16 [==============================] - 1s 41ms/step - loss: 16.2974 - val_loss: 16.8439\n",
      "Epoch 29/30\n",
      "16/16 [==============================] - 1s 40ms/step - loss: 16.6648 - val_loss: 16.6500\n",
      "Epoch 30/30\n",
      "16/16 [==============================] - 1s 40ms/step - loss: 16.5403 - val_loss: 16.4725\n"
     ]
    }
   ],
   "source": [
    "meta_weights = meta_learner.meta_model.get_weights()\n",
    "trained_meta_model = meta_learner.meta_model\n",
    "optimizer = tf.keras.optimizers.Adam(0.000001)\n",
    "trained_meta_model.compile(optimizer=optimizer, loss=gamma_loss)\n",
    "meta_history_fine_tune = trained_meta_model.fit(train_x, train_y, epochs=30, validation_data=[test_x, test_y])\n",
    "meta_learner.meta_model.set_weights(meta_weights)"
   ]
  },
  {
   "cell_type": "code",
   "execution_count": 59,
   "metadata": {},
   "outputs": [
    {
     "data": {
      "image/png": "[encoded data removed]",
      "text/plain": [
       "<Figure size 432x288 with 1 Axes>"
      ]
     },
     "metadata": {
      "needs_background": "light"
     },
     "output_type": "display_data"
    }
   ],
   "source": [
    "plot_history(meta_history_fine_tune, 'fine tune history')"
   ]
  },
  {
   "cell_type": "code",
   "execution_count": 39,
   "metadata": {},
   "outputs": [],
   "source": [
    "trained_meta_model = meta_learner.meta_model\n",
    "untrainded_weights = trained_meta_model.get_weights()"
   ]
  },
  {
   "cell_type": "code",
   "execution_count": 53,
   "metadata": {},
   "outputs": [
    {
     "data": {
      "text/plain": [
       "60745"
      ]
     },
     "execution_count": 53,
     "metadata": {},
     "output_type": "execute_result"
    }
   ],
   "source": [
    "cum = 0\n",
    "for i in range(len(weights_trained)):\n",
    "    cum += np.sum(meta_learner.meta_model.get_weights()[i] == meta_weights[i])\n",
    "cum"
   ]
  },
  {
   "cell_type": "code",
   "execution_count": 68,
   "metadata": {},
   "outputs": [
    {
     "ename": "NameError",
     "evalue": "name 'inner_rate_f' is not defined",
     "output_type": "error",
     "traceback": [
      "\u001b[1;31m---------------------------------------------------------------------------\u001b[0m",
      "\u001b[1;31mNameError\u001b[0m                                 Traceback (most recent call last)",
      "\u001b[1;32m<ipython-input-68-be7e5f71bb24>\u001b[0m in \u001b[0;36m<module>\u001b[1;34m\u001b[0m\n\u001b[0;32m      7\u001b[0m     \u001b[0mbatch_dist\u001b[0m \u001b[1;33m=\u001b[0m \u001b[0mnp\u001b[0m\u001b[1;33m.\u001b[0m\u001b[0mmean\u001b[0m\u001b[1;33m(\u001b[0m\u001b[1;33m[\u001b[0m\u001b[0mdistance_function\u001b[0m\u001b[1;33m(\u001b[0m\u001b[0mlocat\u001b[0m\u001b[1;33m,\u001b[0m \u001b[0mcenter\u001b[0m\u001b[1;33m)\u001b[0m \u001b[1;32mfor\u001b[0m \u001b[0mlocat\u001b[0m \u001b[1;32min\u001b[0m \u001b[0mbatch_locations\u001b[0m\u001b[1;33m]\u001b[0m\u001b[1;33m)\u001b[0m\u001b[1;33m\u001b[0m\u001b[1;33m\u001b[0m\u001b[0m\n\u001b[0;32m      8\u001b[0m \u001b[1;33m\u001b[0m\u001b[0m\n\u001b[1;32m----> 9\u001b[1;33m \u001b[0minner_rate_f\u001b[0m\u001b[1;33m(\u001b[0m\u001b[1;36m0.01\u001b[0m\u001b[1;33m,\u001b[0m \u001b[1;36m100\u001b[0m\u001b[1;33m,\u001b[0m \u001b[1;36m5\u001b[0m\u001b[1;33m)\u001b[0m\u001b[1;33m\u001b[0m\u001b[1;33m\u001b[0m\u001b[0m\n\u001b[0m",
      "\u001b[1;31mNameError\u001b[0m: name 'inner_rate_f' is not defined"
     ]
    }
   ],
   "source": [
    "def inner_rate_function(inner_rate, batch_size, inner_step):\n",
    "    return inner_rate/inner_step*math.log(batch_size, 20)\n",
    "\n",
    "def meta_rate_function(meta_rate, batch_locations, seen_locations, covariance_function, distance_function):\n",
    "    batch_size = len(batch_location)\n",
    "    center = np.average(list(seen_locations.keys()), weights=list(seen_locations.values()), axis=0)\n",
    "    batch_dist = np.mean([distance_function(locat, center) for locat in batch_locations])\n",
    "    \n",
    "inner_rate_f(0.01, 100, 5)"
   ]
  },
  {
   "cell_type": "code",
   "execution_count": 66,
   "metadata": {},
   "outputs": [
    {
     "data": {
      "text/plain": [
       "Text(0.5, 1.0, 'Meta Training History')"
      ]
     },
     "execution_count": 66,
     "metadata": {},
     "output_type": "execute_result"
    },
    {
     "data": {
      "image/png": "[encoded data removed]",
      "text/plain": [
       "<Figure size 432x288 with 1 Axes>"
      ]
     },
     "metadata": {
      "needs_background": "light"
     },
     "output_type": "display_data"
    }
   ],
   "source": [
    "plt.plot(meta_history)\n",
    "plt.title('Meta Training History')"
   ]
  },
  {
   "cell_type": "code",
   "execution_count": 69,
   "metadata": {},
   "outputs": [
    {
     "name": "stdout",
     "output_type": "stream",
     "text": [
      "Model: \"model_24\"\n",
      "__________________________________________________________________________________________________\n",
      " Layer (type)                   Output Shape         Param #     Connected to                     \n",
      "==================================================================================================\n",
      " input_148 (InputLayer)         [(None, 10, 1, 3, 3  0           []                               \n",
      "                                )]                                                                \n",
      "                                                                                                  \n",
      " conv_lstm2d_72 (ConvLSTM2D)    (None, 10, 1, 2, 20  3760        ['input_148[0][0]']              \n",
      "                                )                                                                 \n",
      "                                                                                                  \n",
      " conv_lstm2d_73 (ConvLSTM2D)    (None, 10, 1, 1, 20  6480        ['conv_lstm2d_72[1][0]']         \n",
      "                                )                                                                 \n",
      "                                                                                                  \n",
      " conv_lstm2d_74 (ConvLSTM2D)    (None, 1, 1, 20)     3280        ['conv_lstm2d_73[1][0]']         \n",
      "                                                                                                  \n",
      " flatten_48 (Flatten)           (None, 20)           0           ['conv_lstm2d_74[1][0]']         \n",
      "                                                                                                  \n",
      " dense_200 (Dense)              (None, 512)          10752       ['flatten_48[1][0]']             \n",
      "                                                                                                  \n",
      " input_149 (InputLayer)         [(None, 3, 3, 1)]    0           []                               \n",
      "                                                                                                  \n",
      " input_150 (InputLayer)         [(None, 1)]          0           []                               \n",
      "                                                                                                  \n",
      " batch_normalization_195 (Batch  (None, 512)         2048        ['dense_200[1][0]']              \n",
      " Normalization)                                                                                   \n",
      "                                                                                                  \n",
      " conv2d_24 (Conv2D)             (None, 2, 2, 20)     100         ['input_149[0][0]']              \n",
      "                                                                                                  \n",
      " batch_normalization_196 (Batch  (None, 1)           4           ['input_150[0][0]']              \n",
      " Normalization)                                                                                   \n",
      "                                                                                                  \n",
      " dense_201 (Dense)              (None, 300)          153900      ['batch_normalization_195[1][0]']\n",
      "                                                                                                  \n",
      " flatten_49 (Flatten)           (None, 80)           0           ['conv2d_24[1][0]']              \n",
      "                                                                                                  \n",
      " dense_202 (Dense)              (None, 30)           60          ['batch_normalization_196[1][0]']\n",
      "                                                                                                  \n",
      " concatenate_48 (Concatenate)   (None, 410)          0           ['dense_201[1][0]',              \n",
      "                                                                  'flatten_49[1][0]',             \n",
      "                                                                  'dense_202[1][0]']              \n",
      "                                                                                                  \n",
      " dense_203 (Dense)              (None, 128)          52608       ['concatenate_48[1][0]']         \n",
      "                                                                                                  \n",
      " batch_normalization_197 (Batch  (None, 128)         512         ['dense_203[1][0]']              \n",
      " Normalization)                                                                                   \n",
      "                                                                                                  \n",
      " dense_204 (Dense)              (None, 128)          16512       ['batch_normalization_197[1][0]']\n",
      "                                                                                                  \n",
      " batch_normalization_198 (Batch  (None, 128)         512         ['dense_204[1][0]']              \n",
      " Normalization)                                                                                   \n",
      "                                                                                                  \n",
      " dense_205 (Dense)              (None, 128)          16512       ['batch_normalization_198[1][0]']\n",
      "                                                                                                  \n",
      " batch_normalization_199 (Batch  (None, 128)         512         ['dense_205[1][0]']              \n",
      " Normalization)                                                                                   \n",
      "                                                                                                  \n",
      " dense_206 (Dense)              (None, 9000)         1161000     ['batch_normalization_199[1][0]']\n",
      "                                                                                                  \n",
      " dense_207 (Dense)              (None, 9000)         1161000     ['batch_normalization_199[1][0]']\n",
      "                                                                                                  \n",
      " sigmas (Dense)                 (None, 9000)         1161000     ['batch_normalization_199[1][0]']\n",
      "                                                                                                  \n",
      " concatenate_49 (Concatenate)   (None, 27000)        0           ['dense_206[1][0]',              \n",
      "                                                                  'dense_207[1][0]',              \n",
      "                                                                  'sigmas[1][0]']                 \n",
      "                                                                                                  \n",
      "==================================================================================================\n",
      "Total params: 3,750,552\n",
      "Trainable params: 3,748,758\n",
      "Non-trainable params: 1,794\n",
      "__________________________________________________________________________________________________\n"
     ]
    }
   ],
   "source": [
    "trained_meta_model = meta_learner.meta_model\n",
    "optimizer = tf.keras.optimizers.Adam(0.0000001)\n",
    "trained_meta_model.compile(optimizer=optimizer, loss=gamma_loss)\n",
    "trained_meta_model.summary()"
   ]
  },
  {
   "cell_type": "code",
   "execution_count": 101,
   "metadata": {},
   "outputs": [
    {
     "name": "stdout",
     "output_type": "stream",
     "text": [
      "Epoch 1/10\n",
      "16/16 [==============================] - 1s 39ms/step - loss: 20.9754 - val_loss: 81.1145\n",
      "Epoch 2/10\n",
      "16/16 [==============================] - 1s 37ms/step - loss: 21.4895 - val_loss: 76.0576\n",
      "Epoch 3/10\n",
      "16/16 [==============================] - 1s 37ms/step - loss: 21.1255 - val_loss: 70.8730\n",
      "Epoch 4/10\n",
      "16/16 [==============================] - 1s 52ms/step - loss: 21.2288 - val_loss: 66.2162\n",
      "Epoch 5/10\n",
      "16/16 [==============================] - 1s 45ms/step - loss: 20.6093 - val_loss: 62.1022\n",
      "Epoch 6/10\n",
      "16/16 [==============================] - 1s 37ms/step - loss: 20.9983 - val_loss: 58.4769\n",
      "Epoch 7/10\n",
      "16/16 [==============================] - 1s 44ms/step - loss: 20.8252 - val_loss: 54.8636\n",
      "Epoch 8/10\n",
      "16/16 [==============================] - 1s 49ms/step - loss: 20.7803 - val_loss: 51.3007\n",
      "Epoch 9/10\n",
      "16/16 [==============================] - 1s 48ms/step - loss: 20.4319 - val_loss: 47.6514\n",
      "Epoch 10/10\n",
      "16/16 [==============================] - 1s 45ms/step - loss: 20.6642 - val_loss: 44.2228\n"
     ]
    }
   ],
   "source": [
    "meta_history_fine_tune = trained_meta_model.fit(train_x, train_y, epochs=10, validation_data=[test_x, test_y])"
   ]
  },
  {
   "cell_type": "code",
   "execution_count": 102,
   "metadata": {},
   "outputs": [],
   "source": [
    "def sequential_predict(model, init_data, predict_steps, is_prob=False):\n",
    "    \n",
    "    n_lag = len(init_data)\n",
    "    for i in range(predict_steps):\n",
    "        temp = np.zeros((1, 1, n_lag))\n",
    "        temp[0, 0] = init_data[-n_lag:]\n",
    "        y_hat = model.predict(temp)\n",
    "        if is_prob:\n",
    "            alpha_pred, mu_pred= slice_parameter_vectors(y_hat)\n",
    "            MDN_Yhat = tfd.MixtureSameFamily(\n",
    "                mixture_distribution=tfd.Categorical(probs=alpha_pred),\n",
    "                components_distribution=tfd.Exponential(\n",
    "                    rate=mu_pred))\n",
    "            init_data.append(np.asarray(MDN_Yhat.sample())[0])\n",
    "        else:\n",
    "            init_data.append(y_hat[0, 0])\n",
    "        #print(y_hat[0,0])\n",
    "        \n",
    "    return init_data[n_lag:]"
   ]
  },
  {
   "cell_type": "code",
   "execution_count": 103,
   "metadata": {},
   "outputs": [
    {
     "ename": "ValueError",
     "evalue": "setting an array element with a sequence. The requested array would exceed the maximum number of dimension of 1.",
     "output_type": "error",
     "traceback": [
      "\u001b[1;31m---------------------------------------------------------------------------\u001b[0m",
      "\u001b[1;31mValueError\u001b[0m                                Traceback (most recent call last)",
      "\u001b[1;32m<ipython-input-103-237830305d4b>\u001b[0m in \u001b[0;36m<module>\u001b[1;34m\u001b[0m\n\u001b[1;32m----> 1\u001b[1;33m \u001b[0msequential_predict\u001b[0m\u001b[1;33m(\u001b[0m\u001b[0mmeta_history\u001b[0m\u001b[1;33m,\u001b[0m \u001b[0minit\u001b[0m\u001b[1;33m,\u001b[0m \u001b[1;36m3\u001b[0m\u001b[1;33m,\u001b[0m \u001b[0mis_prob\u001b[0m\u001b[1;33m=\u001b[0m\u001b[1;32mTrue\u001b[0m\u001b[1;33m)\u001b[0m\u001b[1;33m\u001b[0m\u001b[1;33m\u001b[0m\u001b[0m\n\u001b[0m",
      "\u001b[1;32m<ipython-input-102-1206e01fc4b8>\u001b[0m in \u001b[0;36msequential_predict\u001b[1;34m(model, init_data, predict_steps, is_prob)\u001b[0m\n\u001b[0;32m      3\u001b[0m     \u001b[1;32mfor\u001b[0m \u001b[0mi\u001b[0m \u001b[1;32min\u001b[0m \u001b[0mrange\u001b[0m\u001b[1;33m(\u001b[0m\u001b[0mpredict_steps\u001b[0m\u001b[1;33m)\u001b[0m\u001b[1;33m:\u001b[0m\u001b[1;33m\u001b[0m\u001b[1;33m\u001b[0m\u001b[0m\n\u001b[0;32m      4\u001b[0m         \u001b[0mtemp\u001b[0m \u001b[1;33m=\u001b[0m \u001b[0mnp\u001b[0m\u001b[1;33m.\u001b[0m\u001b[0mzeros\u001b[0m\u001b[1;33m(\u001b[0m\u001b[1;33m(\u001b[0m\u001b[1;36m1\u001b[0m\u001b[1;33m,\u001b[0m \u001b[1;36m1\u001b[0m\u001b[1;33m,\u001b[0m \u001b[0mn_lag\u001b[0m\u001b[1;33m)\u001b[0m\u001b[1;33m)\u001b[0m\u001b[1;33m\u001b[0m\u001b[1;33m\u001b[0m\u001b[0m\n\u001b[1;32m----> 5\u001b[1;33m         \u001b[0mtemp\u001b[0m\u001b[1;33m[\u001b[0m\u001b[1;36m0\u001b[0m\u001b[1;33m,\u001b[0m \u001b[1;36m0\u001b[0m\u001b[1;33m]\u001b[0m \u001b[1;33m=\u001b[0m \u001b[0minit_data\u001b[0m\u001b[1;33m[\u001b[0m\u001b[1;33m-\u001b[0m\u001b[0mn_lag\u001b[0m\u001b[1;33m:\u001b[0m\u001b[1;33m]\u001b[0m\u001b[1;33m\u001b[0m\u001b[1;33m\u001b[0m\u001b[0m\n\u001b[0m\u001b[0;32m      6\u001b[0m         \u001b[0my_hat\u001b[0m \u001b[1;33m=\u001b[0m \u001b[0mmodel\u001b[0m\u001b[1;33m.\u001b[0m\u001b[0mpredict\u001b[0m\u001b[1;33m(\u001b[0m\u001b[0mtemp\u001b[0m\u001b[1;33m)\u001b[0m\u001b[1;33m\u001b[0m\u001b[1;33m\u001b[0m\u001b[0m\n\u001b[0;32m      7\u001b[0m         \u001b[1;32mif\u001b[0m \u001b[0mis_prob\u001b[0m\u001b[1;33m:\u001b[0m\u001b[1;33m\u001b[0m\u001b[1;33m\u001b[0m\u001b[0m\n",
      "\u001b[1;31mValueError\u001b[0m: setting an array element with a sequence. The requested array would exceed the maximum number of dimension of 1."
     ]
    }
   ],
   "source": [
    "sequential_predict(meta_history, init, 3, is_prob=True)"
   ]
  },
  {
   "cell_type": "code",
   "execution_count": 105,
   "metadata": {},
   "outputs": [
    {
     "data": {
      "text/plain": [
       "array([[[[[225.64253485, 226.47699583, 228.740054  ],\n",
       "          [226.39021189, 226.69729353, 229.72138011],\n",
       "          [226.19661694, 225.8895353 , 228.90027051]]],\n",
       "\n",
       "\n",
       "        [[[251.35415386, 251.11382869, 248.66385126],\n",
       "          [254.17129411, 253.25004879, 250.52636816],\n",
       "          [253.89091522, 254.08450976, 253.41694098]]],\n",
       "\n",
       "\n",
       "        [[[230.24031419, 226.92249735, 226.54865883],\n",
       "          [230.32709773, 226.90914598, 227.75695833],\n",
       "          [228.95190645, 226.99592992, 228.60477068]]],\n",
       "\n",
       "\n",
       "        [[[187.35131558, 188.05893849, 189.74788751],\n",
       "          [190.86940306, 191.41013377, 193.27265067],\n",
       "          [193.51297543, 194.54103136, 196.92425191]]],\n",
       "\n",
       "\n",
       "        [[[203.14151383, 203.20159502, 202.60745881],\n",
       "          [204.66357065, 206.15892472, 206.85319625],\n",
       "          [205.52473438, 208.11490125, 210.13095897]]],\n",
       "\n",
       "\n",
       "        [[[195.85355902, 194.74539444, 194.17128528],\n",
       "          [203.91778949, 201.80827173, 200.39970201],\n",
       "          [211.35450571, 208.32374385, 206.20755041]]],\n",
       "\n",
       "\n",
       "        [[[189.06584828, 189.66332214, 190.70472883],\n",
       "          [190.16066109, 190.15064776, 191.99647585],\n",
       "          [190.80152793, 191.03851464, 193.69210096]]],\n",
       "\n",
       "\n",
       "        [[[374.2527365 , 381.61602138, 398.57226802],\n",
       "          [382.95115853, 389.7603601 , 406.35612041],\n",
       "          [402.04362527, 402.87141178, 425.82242526]]],\n",
       "\n",
       "\n",
       "        [[[380.7394079 , 392.78902359, 403.99750342],\n",
       "          [371.61374266, 379.99840655, 390.15212731],\n",
       "          [359.70431479, 369.44414453, 378.47634973]]],\n",
       "\n",
       "\n",
       "        [[[290.12143352, 276.81678853, 269.27326089],\n",
       "          [305.02156872, 289.70754088, 278.87957606],\n",
       "          [313.49301737, 305.65575947, 295.46198418]]]]])"
      ]
     },
     "execution_count": 105,
     "metadata": {},
     "output_type": "execute_result"
    }
   ],
   "source": [
    "init[0]"
   ]
  },
  {
   "cell_type": "code",
   "execution_count": null,
   "metadata": {},
   "outputs": [],
   "source": []
  }
 ],
 "metadata": {
  "kernelspec": {
   "display_name": "Downscale_env",
   "language": "python",
   "name": "downscale_env"
  },
  "language_info": {
   "codemirror_mode": {
    "name": "ipython",
    "version": 3
   },
   "file_extension": ".py",
   "mimetype": "text/x-python",
   "name": "python",
   "nbconvert_exporter": "python",
   "pygments_lexer": "ipython3",
   "version": "3.7.9"
  }
 },
 "nbformat": 4,
 "nbformat_minor": 4
}
